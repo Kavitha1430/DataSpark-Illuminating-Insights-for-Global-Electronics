{
 "cells": [
  {
   "cell_type": "code",
   "execution_count": 1,
   "metadata": {},
   "outputs": [
    {
     "name": "stdout",
     "output_type": "stream",
     "text": [
      "Requirement already satisfied: pandas in c:\\users\\rakes\\appdata\\local\\programs\\python\\python312\\lib\\site-packages (2.2.2)\n",
      "Requirement already satisfied: numpy>=1.26.0 in c:\\users\\rakes\\appdata\\local\\programs\\python\\python312\\lib\\site-packages (from pandas) (1.26.4)\n",
      "Requirement already satisfied: python-dateutil>=2.8.2 in c:\\users\\rakes\\appdata\\roaming\\python\\python312\\site-packages (from pandas) (2.9.0.post0)\n",
      "Requirement already satisfied: pytz>=2020.1 in c:\\users\\rakes\\appdata\\local\\programs\\python\\python312\\lib\\site-packages (from pandas) (2024.1)\n",
      "Requirement already satisfied: tzdata>=2022.7 in c:\\users\\rakes\\appdata\\local\\programs\\python\\python312\\lib\\site-packages (from pandas) (2024.1)\n",
      "Requirement already satisfied: six>=1.5 in c:\\users\\rakes\\appdata\\roaming\\python\\python312\\site-packages (from python-dateutil>=2.8.2->pandas) (1.16.0)\n"
     ]
    },
    {
     "name": "stderr",
     "output_type": "stream",
     "text": [
      "\n",
      "[notice] A new release of pip is available: 24.0 -> 24.3.1\n",
      "[notice] To update, run: python.exe -m pip install --upgrade pip\n"
     ]
    }
   ],
   "source": [
    "!pip install pandas"
   ]
  },
  {
   "cell_type": "code",
   "execution_count": 1,
   "metadata": {},
   "outputs": [],
   "source": [
    "import pandas as pd"
   ]
  },
  {
   "cell_type": "code",
   "execution_count": 2,
   "metadata": {},
   "outputs": [],
   "source": [
    "import pandas as pd\n",
    "\n",
    "file_path = r\"C:\\Users\\rakes\\OneDrive\\Desktop\\Kavitha\\Data insights\\Customers.csv\"\n",
    "\n",
    "# Try with latin1 encoding\n",
    "df_customers = pd.read_csv(file_path, encoding='latin1')"
   ]
  },
  {
   "cell_type": "code",
   "execution_count": 3,
   "metadata": {},
   "outputs": [
    {
     "name": "stdout",
     "output_type": "stream",
     "text": [
      "<class 'pandas.core.frame.DataFrame'>\n",
      "RangeIndex: 15266 entries, 0 to 15265\n",
      "Data columns (total 10 columns):\n",
      " #   Column       Non-Null Count  Dtype \n",
      "---  ------       --------------  ----- \n",
      " 0   CustomerKey  15266 non-null  int64 \n",
      " 1   Gender       15266 non-null  object\n",
      " 2   Name         15266 non-null  object\n",
      " 3   City         15266 non-null  object\n",
      " 4   State Code   15256 non-null  object\n",
      " 5   State        15266 non-null  object\n",
      " 6   Zip Code     15266 non-null  object\n",
      " 7   Country      15266 non-null  object\n",
      " 8   Continent    15266 non-null  object\n",
      " 9   Birthday     15266 non-null  object\n",
      "dtypes: int64(1), object(9)\n",
      "memory usage: 1.2+ MB\n"
     ]
    }
   ],
   "source": [
    "df_customers.info()"
   ]
  },
  {
   "cell_type": "code",
   "execution_count": 4,
   "metadata": {},
   "outputs": [
    {
     "data": {
      "text/plain": [
       "CustomerKey     0\n",
       "Gender          0\n",
       "Name            0\n",
       "City            0\n",
       "State Code     10\n",
       "State           0\n",
       "Zip Code        0\n",
       "Country         0\n",
       "Continent       0\n",
       "Birthday        0\n",
       "dtype: int64"
      ]
     },
     "execution_count": 4,
     "metadata": {},
     "output_type": "execute_result"
    }
   ],
   "source": [
    "df_customers.isnull().sum()"
   ]
  },
  {
   "cell_type": "code",
   "execution_count": 5,
   "metadata": {},
   "outputs": [
    {
     "name": "stdout",
     "output_type": "stream",
     "text": [
      "CustomerKey     int64\n",
      "Gender         object\n",
      "Name           object\n",
      "City           object\n",
      "State Code     object\n",
      "State          object\n",
      "Zip Code       object\n",
      "Country        object\n",
      "Continent      object\n",
      "Birthday       object\n",
      "dtype: object\n"
     ]
    }
   ],
   "source": [
    "print(df_customers.dtypes)"
   ]
  },
  {
   "cell_type": "code",
   "execution_count": 6,
   "metadata": {},
   "outputs": [],
   "source": [
    "df_customers.dropna(subset=['State Code'], inplace=True)"
   ]
  },
  {
   "cell_type": "code",
   "execution_count": 7,
   "metadata": {},
   "outputs": [
    {
     "data": {
      "text/plain": [
       "CustomerKey    0\n",
       "Gender         0\n",
       "Name           0\n",
       "City           0\n",
       "State Code     0\n",
       "State          0\n",
       "Zip Code       0\n",
       "Country        0\n",
       "Continent      0\n",
       "Birthday       0\n",
       "dtype: int64"
      ]
     },
     "execution_count": 7,
     "metadata": {},
     "output_type": "execute_result"
    }
   ],
   "source": [
    "df_customers.isnull().sum()"
   ]
  },
  {
   "cell_type": "code",
   "execution_count": 8,
   "metadata": {},
   "outputs": [],
   "source": [
    "df_customers['Birthday'] = pd.to_datetime(df_customers['Birthday'])"
   ]
  },
  {
   "cell_type": "code",
   "execution_count": 9,
   "metadata": {},
   "outputs": [
    {
     "name": "stdout",
     "output_type": "stream",
     "text": [
      "<class 'pandas.core.frame.DataFrame'>\n",
      "Index: 15256 entries, 0 to 15265\n",
      "Data columns (total 10 columns):\n",
      " #   Column       Non-Null Count  Dtype         \n",
      "---  ------       --------------  -----         \n",
      " 0   CustomerKey  15256 non-null  int64         \n",
      " 1   Gender       15256 non-null  object        \n",
      " 2   Name         15256 non-null  object        \n",
      " 3   City         15256 non-null  object        \n",
      " 4   State Code   15256 non-null  object        \n",
      " 5   State        15256 non-null  object        \n",
      " 6   Zip Code     15256 non-null  object        \n",
      " 7   Country      15256 non-null  object        \n",
      " 8   Continent    15256 non-null  object        \n",
      " 9   Birthday     15256 non-null  datetime64[ns]\n",
      "dtypes: datetime64[ns](1), int64(1), object(8)\n",
      "memory usage: 1.3+ MB\n"
     ]
    }
   ],
   "source": [
    "df_customers.info()"
   ]
  },
  {
   "cell_type": "code",
   "execution_count": 10,
   "metadata": {},
   "outputs": [],
   "source": [
    "df_customers.rename(columns={\n",
    "    'CustomerKey':'Customer_Key',\n",
    "    'State Code':'State_Code',\n",
    "    'Zip Code':'Zip_Code'\n",
    "    },\n",
    "    inplace=True)"
   ]
  },
  {
   "cell_type": "code",
   "execution_count": 11,
   "metadata": {},
   "outputs": [
    {
     "name": "stdout",
     "output_type": "stream",
     "text": [
      "<class 'pandas.core.frame.DataFrame'>\n",
      "Index: 15256 entries, 0 to 15265\n",
      "Data columns (total 10 columns):\n",
      " #   Column        Non-Null Count  Dtype         \n",
      "---  ------        --------------  -----         \n",
      " 0   Customer_Key  15256 non-null  int64         \n",
      " 1   Gender        15256 non-null  object        \n",
      " 2   Name          15256 non-null  object        \n",
      " 3   City          15256 non-null  object        \n",
      " 4   State_Code    15256 non-null  object        \n",
      " 5   State         15256 non-null  object        \n",
      " 6   Zip_Code      15256 non-null  object        \n",
      " 7   Country       15256 non-null  object        \n",
      " 8   Continent     15256 non-null  object        \n",
      " 9   Birthday      15256 non-null  datetime64[ns]\n",
      "dtypes: datetime64[ns](1), int64(1), object(8)\n",
      "memory usage: 1.3+ MB\n"
     ]
    }
   ],
   "source": [
    "df_customers.info()"
   ]
  },
  {
   "cell_type": "code",
   "execution_count": 12,
   "metadata": {},
   "outputs": [],
   "source": [
    "\n",
    "file_path = r\"C:\\Users\\rakes\\OneDrive\\Desktop\\Kavitha\\Data insights\\Sales (1).csv\"\n",
    "\n",
    "# Try with latin1 encoding\n",
    "df_Sales = pd.read_csv(file_path, encoding='latin1')"
   ]
  },
  {
   "cell_type": "code",
   "execution_count": 13,
   "metadata": {},
   "outputs": [
    {
     "name": "stdout",
     "output_type": "stream",
     "text": [
      "<class 'pandas.core.frame.DataFrame'>\n",
      "RangeIndex: 62884 entries, 0 to 62883\n",
      "Data columns (total 9 columns):\n",
      " #   Column         Non-Null Count  Dtype \n",
      "---  ------         --------------  ----- \n",
      " 0   Order Number   62884 non-null  int64 \n",
      " 1   Line Item      62884 non-null  int64 \n",
      " 2   Order Date     62884 non-null  object\n",
      " 3   Delivery Date  13165 non-null  object\n",
      " 4   CustomerKey    62884 non-null  int64 \n",
      " 5   StoreKey       62884 non-null  int64 \n",
      " 6   ProductKey     62884 non-null  int64 \n",
      " 7   Quantity       62884 non-null  int64 \n",
      " 8   Currency Code  62884 non-null  object\n",
      "dtypes: int64(6), object(3)\n",
      "memory usage: 4.3+ MB\n"
     ]
    }
   ],
   "source": [
    "df_Sales.info()"
   ]
  },
  {
   "cell_type": "code",
   "execution_count": 14,
   "metadata": {},
   "outputs": [
    {
     "data": {
      "text/plain": [
       "Order Number         0\n",
       "Line Item            0\n",
       "Order Date           0\n",
       "Delivery Date    49719\n",
       "CustomerKey          0\n",
       "StoreKey             0\n",
       "ProductKey           0\n",
       "Quantity             0\n",
       "Currency Code        0\n",
       "dtype: int64"
      ]
     },
     "execution_count": 14,
     "metadata": {},
     "output_type": "execute_result"
    }
   ],
   "source": [
    "df_Sales.isnull().sum()"
   ]
  },
  {
   "cell_type": "code",
   "execution_count": 15,
   "metadata": {},
   "outputs": [],
   "source": [
    "df_Sales = df_Sales.drop(['Delivery Date'], axis=1) "
   ]
  },
  {
   "cell_type": "code",
   "execution_count": 16,
   "metadata": {},
   "outputs": [
    {
     "name": "stdout",
     "output_type": "stream",
     "text": [
      "<class 'pandas.core.frame.DataFrame'>\n",
      "RangeIndex: 62884 entries, 0 to 62883\n",
      "Data columns (total 8 columns):\n",
      " #   Column         Non-Null Count  Dtype \n",
      "---  ------         --------------  ----- \n",
      " 0   Order Number   62884 non-null  int64 \n",
      " 1   Line Item      62884 non-null  int64 \n",
      " 2   Order Date     62884 non-null  object\n",
      " 3   CustomerKey    62884 non-null  int64 \n",
      " 4   StoreKey       62884 non-null  int64 \n",
      " 5   ProductKey     62884 non-null  int64 \n",
      " 6   Quantity       62884 non-null  int64 \n",
      " 7   Currency Code  62884 non-null  object\n",
      "dtypes: int64(6), object(2)\n",
      "memory usage: 3.8+ MB\n"
     ]
    }
   ],
   "source": [
    "df_Sales.info()"
   ]
  },
  {
   "cell_type": "code",
   "execution_count": 17,
   "metadata": {},
   "outputs": [],
   "source": [
    "df_Sales['Order Date']=pd.to_datetime(df_Sales['Order Date'])"
   ]
  },
  {
   "cell_type": "code",
   "execution_count": 18,
   "metadata": {},
   "outputs": [
    {
     "name": "stdout",
     "output_type": "stream",
     "text": [
      "<class 'pandas.core.frame.DataFrame'>\n",
      "RangeIndex: 62884 entries, 0 to 62883\n",
      "Data columns (total 8 columns):\n",
      " #   Column         Non-Null Count  Dtype         \n",
      "---  ------         --------------  -----         \n",
      " 0   Order Number   62884 non-null  int64         \n",
      " 1   Line Item      62884 non-null  int64         \n",
      " 2   Order Date     62884 non-null  datetime64[ns]\n",
      " 3   CustomerKey    62884 non-null  int64         \n",
      " 4   StoreKey       62884 non-null  int64         \n",
      " 5   ProductKey     62884 non-null  int64         \n",
      " 6   Quantity       62884 non-null  int64         \n",
      " 7   Currency Code  62884 non-null  object        \n",
      "dtypes: datetime64[ns](1), int64(6), object(1)\n",
      "memory usage: 3.8+ MB\n"
     ]
    }
   ],
   "source": [
    "df_Sales.info()"
   ]
  },
  {
   "cell_type": "code",
   "execution_count": 19,
   "metadata": {},
   "outputs": [],
   "source": [
    "df_Sales.rename(columns={'Order Number':'Order_Number','Line Item':'Line_Item','Order Date':'Order_Date','CustomerKey':'Customer_Key','StoreKey':'Store_Key','ProductKey':'Product_Key','Quantity':'Quantity','Currency Code':'Currency_Code'},inplace=True)"
   ]
  },
  {
   "cell_type": "code",
   "execution_count": 20,
   "metadata": {},
   "outputs": [
    {
     "name": "stdout",
     "output_type": "stream",
     "text": [
      "<class 'pandas.core.frame.DataFrame'>\n",
      "RangeIndex: 62884 entries, 0 to 62883\n",
      "Data columns (total 8 columns):\n",
      " #   Column         Non-Null Count  Dtype         \n",
      "---  ------         --------------  -----         \n",
      " 0   Order_Number   62884 non-null  int64         \n",
      " 1   Line_Item      62884 non-null  int64         \n",
      " 2   Order_Date     62884 non-null  datetime64[ns]\n",
      " 3   Customer_Key   62884 non-null  int64         \n",
      " 4   Store_Key      62884 non-null  int64         \n",
      " 5   Product_Key    62884 non-null  int64         \n",
      " 6   Quantity       62884 non-null  int64         \n",
      " 7   Currency_Code  62884 non-null  object        \n",
      "dtypes: datetime64[ns](1), int64(6), object(1)\n",
      "memory usage: 3.8+ MB\n"
     ]
    }
   ],
   "source": [
    "df_Sales.info()"
   ]
  },
  {
   "cell_type": "code",
   "execution_count": 21,
   "metadata": {},
   "outputs": [],
   "source": [
    "\n",
    "file_path = r\"C:\\Users\\rakes\\OneDrive\\Desktop\\Kavitha\\Data insights\\Stores (1).csv\"\n",
    "\n",
    "# Try with latin1 encoding\n",
    "df_Stores = pd.read_csv(file_path, encoding='latin1')"
   ]
  },
  {
   "cell_type": "code",
   "execution_count": 22,
   "metadata": {},
   "outputs": [
    {
     "name": "stdout",
     "output_type": "stream",
     "text": [
      "<class 'pandas.core.frame.DataFrame'>\n",
      "RangeIndex: 67 entries, 0 to 66\n",
      "Data columns (total 5 columns):\n",
      " #   Column         Non-Null Count  Dtype  \n",
      "---  ------         --------------  -----  \n",
      " 0   StoreKey       67 non-null     int64  \n",
      " 1   Country        67 non-null     object \n",
      " 2   State          67 non-null     object \n",
      " 3   Square Meters  66 non-null     float64\n",
      " 4   Open Date      67 non-null     object \n",
      "dtypes: float64(1), int64(1), object(3)\n",
      "memory usage: 2.7+ KB\n"
     ]
    }
   ],
   "source": [
    "df_Stores.info()"
   ]
  },
  {
   "cell_type": "code",
   "execution_count": 23,
   "metadata": {},
   "outputs": [
    {
     "data": {
      "text/html": [
       "<div>\n",
       "<style scoped>\n",
       "    .dataframe tbody tr th:only-of-type {\n",
       "        vertical-align: middle;\n",
       "    }\n",
       "\n",
       "    .dataframe tbody tr th {\n",
       "        vertical-align: top;\n",
       "    }\n",
       "\n",
       "    .dataframe thead th {\n",
       "        text-align: right;\n",
       "    }\n",
       "</style>\n",
       "<table border=\"1\" class=\"dataframe\">\n",
       "  <thead>\n",
       "    <tr style=\"text-align: right;\">\n",
       "      <th></th>\n",
       "      <th>StoreKey</th>\n",
       "      <th>Country</th>\n",
       "      <th>State</th>\n",
       "      <th>Square Meters</th>\n",
       "      <th>Open Date</th>\n",
       "    </tr>\n",
       "  </thead>\n",
       "  <tbody>\n",
       "    <tr>\n",
       "      <th>66</th>\n",
       "      <td>0</td>\n",
       "      <td>Online</td>\n",
       "      <td>Online</td>\n",
       "      <td>NaN</td>\n",
       "      <td>1/1/2010</td>\n",
       "    </tr>\n",
       "  </tbody>\n",
       "</table>\n",
       "</div>"
      ],
      "text/plain": [
       "    StoreKey Country   State  Square Meters Open Date\n",
       "66         0  Online  Online            NaN  1/1/2010"
      ]
     },
     "execution_count": 23,
     "metadata": {},
     "output_type": "execute_result"
    }
   ],
   "source": [
    "df_Stores[df_Stores['Square Meters'].isnull()]"
   ]
  },
  {
   "cell_type": "code",
   "execution_count": 24,
   "metadata": {},
   "outputs": [
    {
     "name": "stderr",
     "output_type": "stream",
     "text": [
      "C:\\Users\\rakes\\AppData\\Local\\Temp\\ipykernel_10856\\454346452.py:1: FutureWarning: A value is trying to be set on a copy of a DataFrame or Series through chained assignment using an inplace method.\n",
      "The behavior will change in pandas 3.0. This inplace method will never work because the intermediate object on which we are setting values always behaves as a copy.\n",
      "\n",
      "For example, when doing 'df[col].method(value, inplace=True)', try using 'df.method({col: value}, inplace=True)' or df[col] = df[col].method(value) instead, to perform the operation inplace on the original object.\n",
      "\n",
      "\n",
      "  df_Stores['Square Meters'].fillna(0,inplace=True)\n"
     ]
    }
   ],
   "source": [
    "df_Stores['Square Meters'].fillna(0,inplace=True)"
   ]
  },
  {
   "cell_type": "code",
   "execution_count": 25,
   "metadata": {},
   "outputs": [],
   "source": [
    "df_Stores['Open Date']= pd.to_datetime(df_Stores['Open Date'])"
   ]
  },
  {
   "cell_type": "code",
   "execution_count": 27,
   "metadata": {},
   "outputs": [
    {
     "name": "stdout",
     "output_type": "stream",
     "text": [
      "<class 'pandas.core.frame.DataFrame'>\n"
     ]
    }
   ],
   "source": [
    "print(type(df_Stores))"
   ]
  },
  {
   "cell_type": "code",
   "execution_count": 28,
   "metadata": {},
   "outputs": [
    {
     "name": "stdout",
     "output_type": "stream",
     "text": [
      "<class 'pandas.core.frame.DataFrame'>\n"
     ]
    }
   ],
   "source": [
    "print(type(df_Stores))"
   ]
  },
  {
   "cell_type": "code",
   "execution_count": null,
   "metadata": {},
   "outputs": [],
   "source": []
  },
  {
   "cell_type": "code",
   "execution_count": 26,
   "metadata": {},
   "outputs": [],
   "source": [
    "df_Stores.rename(\n",
    "    columns={\n",
    "        'StoreKey': 'Store_Key',  # No change, but included for clarity\n",
    "        'Country': 'Country',    # No change\n",
    "        'State': 'State',        # No change\n",
    "        'Square Meters': 'Square_Meters',  # Rename with underscore\n",
    "        'Open Date': 'Open_Date'           # Rename with underscore\n",
    "    },\n",
    "    inplace=True\n",
    ")"
   ]
  },
  {
   "cell_type": "code",
   "execution_count": 27,
   "metadata": {},
   "outputs": [
    {
     "name": "stdout",
     "output_type": "stream",
     "text": [
      "<class 'pandas.core.frame.DataFrame'>\n",
      "RangeIndex: 67 entries, 0 to 66\n",
      "Data columns (total 5 columns):\n",
      " #   Column         Non-Null Count  Dtype         \n",
      "---  ------         --------------  -----         \n",
      " 0   Store_Key      67 non-null     int64         \n",
      " 1   Country        67 non-null     object        \n",
      " 2   State          67 non-null     object        \n",
      " 3   Square_Meters  67 non-null     float64       \n",
      " 4   Open_Date      67 non-null     datetime64[ns]\n",
      "dtypes: datetime64[ns](1), float64(1), int64(1), object(2)\n",
      "memory usage: 2.7+ KB\n"
     ]
    }
   ],
   "source": [
    "df_Stores.info()"
   ]
  },
  {
   "cell_type": "code",
   "execution_count": 28,
   "metadata": {},
   "outputs": [
    {
     "data": {
      "text/html": [
       "<div>\n",
       "<style scoped>\n",
       "    .dataframe tbody tr th:only-of-type {\n",
       "        vertical-align: middle;\n",
       "    }\n",
       "\n",
       "    .dataframe tbody tr th {\n",
       "        vertical-align: top;\n",
       "    }\n",
       "\n",
       "    .dataframe thead th {\n",
       "        text-align: right;\n",
       "    }\n",
       "</style>\n",
       "<table border=\"1\" class=\"dataframe\">\n",
       "  <thead>\n",
       "    <tr style=\"text-align: right;\">\n",
       "      <th></th>\n",
       "      <th>Store_Key</th>\n",
       "      <th>Country</th>\n",
       "      <th>State</th>\n",
       "      <th>Square_Meters</th>\n",
       "      <th>Open_Date</th>\n",
       "    </tr>\n",
       "  </thead>\n",
       "  <tbody>\n",
       "    <tr>\n",
       "      <th>0</th>\n",
       "      <td>1</td>\n",
       "      <td>Australia</td>\n",
       "      <td>Australian Capital Territory</td>\n",
       "      <td>595.0</td>\n",
       "      <td>2008-01-01</td>\n",
       "    </tr>\n",
       "    <tr>\n",
       "      <th>1</th>\n",
       "      <td>2</td>\n",
       "      <td>Australia</td>\n",
       "      <td>Northern Territory</td>\n",
       "      <td>665.0</td>\n",
       "      <td>2008-01-12</td>\n",
       "    </tr>\n",
       "    <tr>\n",
       "      <th>2</th>\n",
       "      <td>3</td>\n",
       "      <td>Australia</td>\n",
       "      <td>South Australia</td>\n",
       "      <td>2000.0</td>\n",
       "      <td>2012-01-07</td>\n",
       "    </tr>\n",
       "    <tr>\n",
       "      <th>3</th>\n",
       "      <td>4</td>\n",
       "      <td>Australia</td>\n",
       "      <td>Tasmania</td>\n",
       "      <td>2000.0</td>\n",
       "      <td>2010-01-01</td>\n",
       "    </tr>\n",
       "    <tr>\n",
       "      <th>4</th>\n",
       "      <td>5</td>\n",
       "      <td>Australia</td>\n",
       "      <td>Victoria</td>\n",
       "      <td>2000.0</td>\n",
       "      <td>2015-12-09</td>\n",
       "    </tr>\n",
       "  </tbody>\n",
       "</table>\n",
       "</div>"
      ],
      "text/plain": [
       "   Store_Key    Country                         State  Square_Meters  \\\n",
       "0          1  Australia  Australian Capital Territory          595.0   \n",
       "1          2  Australia            Northern Territory          665.0   \n",
       "2          3  Australia               South Australia         2000.0   \n",
       "3          4  Australia                      Tasmania         2000.0   \n",
       "4          5  Australia                      Victoria         2000.0   \n",
       "\n",
       "   Open_Date  \n",
       "0 2008-01-01  \n",
       "1 2008-01-12  \n",
       "2 2012-01-07  \n",
       "3 2010-01-01  \n",
       "4 2015-12-09  "
      ]
     },
     "execution_count": 28,
     "metadata": {},
     "output_type": "execute_result"
    }
   ],
   "source": [
    "df_Stores.head()"
   ]
  },
  {
   "cell_type": "code",
   "execution_count": 29,
   "metadata": {},
   "outputs": [],
   "source": [
    "\n",
    "file_path = r\"C:\\Users\\rakes\\OneDrive\\Desktop\\Kavitha\\Data insights\\Products.csv\"\n",
    "\n",
    "# Try with latin1 encoding\n",
    "df_Products= pd.read_csv(file_path, encoding='latin1')"
   ]
  },
  {
   "cell_type": "code",
   "execution_count": 30,
   "metadata": {},
   "outputs": [
    {
     "name": "stdout",
     "output_type": "stream",
     "text": [
      "<class 'pandas.core.frame.DataFrame'>\n",
      "RangeIndex: 2517 entries, 0 to 2516\n",
      "Data columns (total 10 columns):\n",
      " #   Column          Non-Null Count  Dtype \n",
      "---  ------          --------------  ----- \n",
      " 0   ProductKey      2517 non-null   int64 \n",
      " 1   Product Name    2517 non-null   object\n",
      " 2   Brand           2517 non-null   object\n",
      " 3   Color           2517 non-null   object\n",
      " 4   Unit Cost USD   2517 non-null   object\n",
      " 5   Unit Price USD  2517 non-null   object\n",
      " 6   SubcategoryKey  2517 non-null   int64 \n",
      " 7   Subcategory     2517 non-null   object\n",
      " 8   CategoryKey     2517 non-null   int64 \n",
      " 9   Category        2517 non-null   object\n",
      "dtypes: int64(3), object(7)\n",
      "memory usage: 196.8+ KB\n"
     ]
    }
   ],
   "source": [
    "df_Products.info()"
   ]
  },
  {
   "cell_type": "code",
   "execution_count": 31,
   "metadata": {},
   "outputs": [
    {
     "data": {
      "text/plain": [
       "ProductKey        0\n",
       "Product Name      0\n",
       "Brand             0\n",
       "Color             0\n",
       "Unit Cost USD     0\n",
       "Unit Price USD    0\n",
       "SubcategoryKey    0\n",
       "Subcategory       0\n",
       "CategoryKey       0\n",
       "Category          0\n",
       "dtype: int64"
      ]
     },
     "execution_count": 31,
     "metadata": {},
     "output_type": "execute_result"
    }
   ],
   "source": [
    "df_Products.isnull().sum()"
   ]
  },
  {
   "cell_type": "code",
   "execution_count": 32,
   "metadata": {},
   "outputs": [
    {
     "name": "stderr",
     "output_type": "stream",
     "text": [
      "<>:1: SyntaxWarning: invalid escape sequence '\\$'\n",
      "<>:2: SyntaxWarning: invalid escape sequence '\\$'\n",
      "<>:1: SyntaxWarning: invalid escape sequence '\\$'\n",
      "<>:2: SyntaxWarning: invalid escape sequence '\\$'\n",
      "C:\\Users\\rakes\\AppData\\Local\\Temp\\ipykernel_10856\\3542287142.py:1: SyntaxWarning: invalid escape sequence '\\$'\n",
      "  df_Products['Unit Cost USD'] = df_Products['Unit Cost USD'].replace('[\\$,]', '', regex=True).replace(',', '', regex=True).astype(float)\n",
      "C:\\Users\\rakes\\AppData\\Local\\Temp\\ipykernel_10856\\3542287142.py:2: SyntaxWarning: invalid escape sequence '\\$'\n",
      "  df_Products['Unit Price USD'] = df_Products['Unit Price USD'].replace('[\\$,]', '', regex=True).replace(',', '', regex=True).astype(float)\n"
     ]
    }
   ],
   "source": [
    "df_Products['Unit Cost USD'] = df_Products['Unit Cost USD'].replace('[\\$,]', '', regex=True).replace(',', '', regex=True).astype(float)\n",
    "df_Products['Unit Price USD'] = df_Products['Unit Price USD'].replace('[\\$,]', '', regex=True).replace(',', '', regex=True).astype(float)"
   ]
  },
  {
   "cell_type": "code",
   "execution_count": 33,
   "metadata": {},
   "outputs": [
    {
     "data": {
      "text/html": [
       "<div>\n",
       "<style scoped>\n",
       "    .dataframe tbody tr th:only-of-type {\n",
       "        vertical-align: middle;\n",
       "    }\n",
       "\n",
       "    .dataframe tbody tr th {\n",
       "        vertical-align: top;\n",
       "    }\n",
       "\n",
       "    .dataframe thead th {\n",
       "        text-align: right;\n",
       "    }\n",
       "</style>\n",
       "<table border=\"1\" class=\"dataframe\">\n",
       "  <thead>\n",
       "    <tr style=\"text-align: right;\">\n",
       "      <th></th>\n",
       "      <th>ProductKey</th>\n",
       "      <th>Product Name</th>\n",
       "      <th>Brand</th>\n",
       "      <th>Color</th>\n",
       "      <th>Unit Cost USD</th>\n",
       "      <th>Unit Price USD</th>\n",
       "      <th>SubcategoryKey</th>\n",
       "      <th>Subcategory</th>\n",
       "      <th>CategoryKey</th>\n",
       "      <th>Category</th>\n",
       "    </tr>\n",
       "  </thead>\n",
       "  <tbody>\n",
       "    <tr>\n",
       "      <th>0</th>\n",
       "      <td>1</td>\n",
       "      <td>Contoso 512MB MP3 Player E51 Silver</td>\n",
       "      <td>Contoso</td>\n",
       "      <td>Silver</td>\n",
       "      <td>6.62</td>\n",
       "      <td>12.99</td>\n",
       "      <td>101</td>\n",
       "      <td>MP4&amp;MP3</td>\n",
       "      <td>1</td>\n",
       "      <td>Audio</td>\n",
       "    </tr>\n",
       "    <tr>\n",
       "      <th>1</th>\n",
       "      <td>2</td>\n",
       "      <td>Contoso 512MB MP3 Player E51 Blue</td>\n",
       "      <td>Contoso</td>\n",
       "      <td>Blue</td>\n",
       "      <td>6.62</td>\n",
       "      <td>12.99</td>\n",
       "      <td>101</td>\n",
       "      <td>MP4&amp;MP3</td>\n",
       "      <td>1</td>\n",
       "      <td>Audio</td>\n",
       "    </tr>\n",
       "    <tr>\n",
       "      <th>2</th>\n",
       "      <td>3</td>\n",
       "      <td>Contoso 1G MP3 Player E100 White</td>\n",
       "      <td>Contoso</td>\n",
       "      <td>White</td>\n",
       "      <td>7.40</td>\n",
       "      <td>14.52</td>\n",
       "      <td>101</td>\n",
       "      <td>MP4&amp;MP3</td>\n",
       "      <td>1</td>\n",
       "      <td>Audio</td>\n",
       "    </tr>\n",
       "    <tr>\n",
       "      <th>3</th>\n",
       "      <td>4</td>\n",
       "      <td>Contoso 2G MP3 Player E200 Silver</td>\n",
       "      <td>Contoso</td>\n",
       "      <td>Silver</td>\n",
       "      <td>11.00</td>\n",
       "      <td>21.57</td>\n",
       "      <td>101</td>\n",
       "      <td>MP4&amp;MP3</td>\n",
       "      <td>1</td>\n",
       "      <td>Audio</td>\n",
       "    </tr>\n",
       "    <tr>\n",
       "      <th>4</th>\n",
       "      <td>5</td>\n",
       "      <td>Contoso 2G MP3 Player E200 Red</td>\n",
       "      <td>Contoso</td>\n",
       "      <td>Red</td>\n",
       "      <td>11.00</td>\n",
       "      <td>21.57</td>\n",
       "      <td>101</td>\n",
       "      <td>MP4&amp;MP3</td>\n",
       "      <td>1</td>\n",
       "      <td>Audio</td>\n",
       "    </tr>\n",
       "  </tbody>\n",
       "</table>\n",
       "</div>"
      ],
      "text/plain": [
       "   ProductKey                         Product Name    Brand   Color  \\\n",
       "0           1  Contoso 512MB MP3 Player E51 Silver  Contoso  Silver   \n",
       "1           2    Contoso 512MB MP3 Player E51 Blue  Contoso    Blue   \n",
       "2           3     Contoso 1G MP3 Player E100 White  Contoso   White   \n",
       "3           4    Contoso 2G MP3 Player E200 Silver  Contoso  Silver   \n",
       "4           5       Contoso 2G MP3 Player E200 Red  Contoso     Red   \n",
       "\n",
       "   Unit Cost USD  Unit Price USD  SubcategoryKey Subcategory  CategoryKey  \\\n",
       "0           6.62           12.99             101     MP4&MP3            1   \n",
       "1           6.62           12.99             101     MP4&MP3            1   \n",
       "2           7.40           14.52             101     MP4&MP3            1   \n",
       "3          11.00           21.57             101     MP4&MP3            1   \n",
       "4          11.00           21.57             101     MP4&MP3            1   \n",
       "\n",
       "  Category  \n",
       "0    Audio  \n",
       "1    Audio  \n",
       "2    Audio  \n",
       "3    Audio  \n",
       "4    Audio  "
      ]
     },
     "execution_count": 33,
     "metadata": {},
     "output_type": "execute_result"
    }
   ],
   "source": [
    "df_Products.head()"
   ]
  },
  {
   "cell_type": "code",
   "execution_count": 34,
   "metadata": {},
   "outputs": [
    {
     "name": "stderr",
     "output_type": "stream",
     "text": [
      "C:\\Users\\rakes\\AppData\\Local\\Temp\\ipykernel_10856\\3667163151.py:1: FutureWarning: A value is trying to be set on a copy of a DataFrame or Series through chained assignment using an inplace method.\n",
      "The behavior will change in pandas 3.0. This inplace method will never work because the intermediate object on which we are setting values always behaves as a copy.\n",
      "\n",
      "For example, when doing 'df[col].method(value, inplace=True)', try using 'df.method({col: value}, inplace=True)' or df[col] = df[col].method(value) instead, to perform the operation inplace on the original object.\n",
      "\n",
      "\n",
      "  df_Products['Unit Price USD'].fillna(0, inplace=True)\n"
     ]
    }
   ],
   "source": [
    "df_Products['Unit Price USD'].fillna(0, inplace=True) "
   ]
  },
  {
   "cell_type": "code",
   "execution_count": 35,
   "metadata": {},
   "outputs": [
    {
     "name": "stdout",
     "output_type": "stream",
     "text": [
      "<class 'pandas.core.frame.DataFrame'>\n",
      "RangeIndex: 2517 entries, 0 to 2516\n",
      "Data columns (total 10 columns):\n",
      " #   Column          Non-Null Count  Dtype  \n",
      "---  ------          --------------  -----  \n",
      " 0   ProductKey      2517 non-null   int64  \n",
      " 1   Product Name    2517 non-null   object \n",
      " 2   Brand           2517 non-null   object \n",
      " 3   Color           2517 non-null   object \n",
      " 4   Unit Cost USD   2517 non-null   float64\n",
      " 5   Unit Price USD  2517 non-null   float64\n",
      " 6   SubcategoryKey  2517 non-null   int64  \n",
      " 7   Subcategory     2517 non-null   object \n",
      " 8   CategoryKey     2517 non-null   int64  \n",
      " 9   Category        2517 non-null   object \n",
      "dtypes: float64(2), int64(3), object(5)\n",
      "memory usage: 196.8+ KB\n"
     ]
    }
   ],
   "source": [
    "df_Products.info()"
   ]
  },
  {
   "cell_type": "code",
   "execution_count": 36,
   "metadata": {},
   "outputs": [
    {
     "data": {
      "text/html": [
       "<div>\n",
       "<style scoped>\n",
       "    .dataframe tbody tr th:only-of-type {\n",
       "        vertical-align: middle;\n",
       "    }\n",
       "\n",
       "    .dataframe tbody tr th {\n",
       "        vertical-align: top;\n",
       "    }\n",
       "\n",
       "    .dataframe thead th {\n",
       "        text-align: right;\n",
       "    }\n",
       "</style>\n",
       "<table border=\"1\" class=\"dataframe\">\n",
       "  <thead>\n",
       "    <tr style=\"text-align: right;\">\n",
       "      <th></th>\n",
       "      <th>ProductKey</th>\n",
       "      <th>Product Name</th>\n",
       "      <th>Brand</th>\n",
       "      <th>Color</th>\n",
       "      <th>Unit Cost USD</th>\n",
       "      <th>Unit Price USD</th>\n",
       "      <th>SubcategoryKey</th>\n",
       "      <th>Subcategory</th>\n",
       "      <th>CategoryKey</th>\n",
       "      <th>Category</th>\n",
       "    </tr>\n",
       "  </thead>\n",
       "  <tbody>\n",
       "    <tr>\n",
       "      <th>0</th>\n",
       "      <td>1</td>\n",
       "      <td>Contoso 512MB MP3 Player E51 Silver</td>\n",
       "      <td>Contoso</td>\n",
       "      <td>Silver</td>\n",
       "      <td>6.62</td>\n",
       "      <td>12.99</td>\n",
       "      <td>101</td>\n",
       "      <td>MP4&amp;MP3</td>\n",
       "      <td>1</td>\n",
       "      <td>Audio</td>\n",
       "    </tr>\n",
       "    <tr>\n",
       "      <th>1</th>\n",
       "      <td>2</td>\n",
       "      <td>Contoso 512MB MP3 Player E51 Blue</td>\n",
       "      <td>Contoso</td>\n",
       "      <td>Blue</td>\n",
       "      <td>6.62</td>\n",
       "      <td>12.99</td>\n",
       "      <td>101</td>\n",
       "      <td>MP4&amp;MP3</td>\n",
       "      <td>1</td>\n",
       "      <td>Audio</td>\n",
       "    </tr>\n",
       "    <tr>\n",
       "      <th>2</th>\n",
       "      <td>3</td>\n",
       "      <td>Contoso 1G MP3 Player E100 White</td>\n",
       "      <td>Contoso</td>\n",
       "      <td>White</td>\n",
       "      <td>7.40</td>\n",
       "      <td>14.52</td>\n",
       "      <td>101</td>\n",
       "      <td>MP4&amp;MP3</td>\n",
       "      <td>1</td>\n",
       "      <td>Audio</td>\n",
       "    </tr>\n",
       "    <tr>\n",
       "      <th>3</th>\n",
       "      <td>4</td>\n",
       "      <td>Contoso 2G MP3 Player E200 Silver</td>\n",
       "      <td>Contoso</td>\n",
       "      <td>Silver</td>\n",
       "      <td>11.00</td>\n",
       "      <td>21.57</td>\n",
       "      <td>101</td>\n",
       "      <td>MP4&amp;MP3</td>\n",
       "      <td>1</td>\n",
       "      <td>Audio</td>\n",
       "    </tr>\n",
       "    <tr>\n",
       "      <th>4</th>\n",
       "      <td>5</td>\n",
       "      <td>Contoso 2G MP3 Player E200 Red</td>\n",
       "      <td>Contoso</td>\n",
       "      <td>Red</td>\n",
       "      <td>11.00</td>\n",
       "      <td>21.57</td>\n",
       "      <td>101</td>\n",
       "      <td>MP4&amp;MP3</td>\n",
       "      <td>1</td>\n",
       "      <td>Audio</td>\n",
       "    </tr>\n",
       "  </tbody>\n",
       "</table>\n",
       "</div>"
      ],
      "text/plain": [
       "   ProductKey                         Product Name    Brand   Color  \\\n",
       "0           1  Contoso 512MB MP3 Player E51 Silver  Contoso  Silver   \n",
       "1           2    Contoso 512MB MP3 Player E51 Blue  Contoso    Blue   \n",
       "2           3     Contoso 1G MP3 Player E100 White  Contoso   White   \n",
       "3           4    Contoso 2G MP3 Player E200 Silver  Contoso  Silver   \n",
       "4           5       Contoso 2G MP3 Player E200 Red  Contoso     Red   \n",
       "\n",
       "   Unit Cost USD  Unit Price USD  SubcategoryKey Subcategory  CategoryKey  \\\n",
       "0           6.62           12.99             101     MP4&MP3            1   \n",
       "1           6.62           12.99             101     MP4&MP3            1   \n",
       "2           7.40           14.52             101     MP4&MP3            1   \n",
       "3          11.00           21.57             101     MP4&MP3            1   \n",
       "4          11.00           21.57             101     MP4&MP3            1   \n",
       "\n",
       "  Category  \n",
       "0    Audio  \n",
       "1    Audio  \n",
       "2    Audio  \n",
       "3    Audio  \n",
       "4    Audio  "
      ]
     },
     "execution_count": 36,
     "metadata": {},
     "output_type": "execute_result"
    }
   ],
   "source": [
    "df_Products.head()"
   ]
  },
  {
   "cell_type": "code",
   "execution_count": 37,
   "metadata": {},
   "outputs": [],
   "source": [
    "df_Products.rename(\n",
    "    columns={\n",
    "        'Product Name': 'Product_Name',  # No change, but included for clarity\n",
    "        'Unit Cost USD': 'Unit_Cost_USD',    # No change\n",
    "        'Unit Price USD': 'Unit_Price_USD',        # No change\n",
    "        'ProductKey':'Product_Key'\n",
    "    \n",
    "    },\n",
    "    inplace=True\n",
    ")"
   ]
  },
  {
   "cell_type": "code",
   "execution_count": 38,
   "metadata": {},
   "outputs": [
    {
     "name": "stdout",
     "output_type": "stream",
     "text": [
      "<class 'pandas.core.frame.DataFrame'>\n",
      "RangeIndex: 2517 entries, 0 to 2516\n",
      "Data columns (total 10 columns):\n",
      " #   Column          Non-Null Count  Dtype  \n",
      "---  ------          --------------  -----  \n",
      " 0   Product_Key     2517 non-null   int64  \n",
      " 1   Product_Name    2517 non-null   object \n",
      " 2   Brand           2517 non-null   object \n",
      " 3   Color           2517 non-null   object \n",
      " 4   Unit_Cost_USD   2517 non-null   float64\n",
      " 5   Unit_Price_USD  2517 non-null   float64\n",
      " 6   SubcategoryKey  2517 non-null   int64  \n",
      " 7   Subcategory     2517 non-null   object \n",
      " 8   CategoryKey     2517 non-null   int64  \n",
      " 9   Category        2517 non-null   object \n",
      "dtypes: float64(2), int64(3), object(5)\n",
      "memory usage: 196.8+ KB\n"
     ]
    }
   ],
   "source": [
    "df_Products.info()"
   ]
  },
  {
   "cell_type": "code",
   "execution_count": 2,
   "metadata": {},
   "outputs": [
    {
     "name": "stdout",
     "output_type": "stream",
     "text": [
      "Requirement already satisfied: mysql-connector-python in c:\\users\\rakes\\appdata\\local\\programs\\python\\python312\\lib\\site-packages (8.4.0)\n",
      "Note: you may need to restart the kernel to use updated packages.\n"
     ]
    },
    {
     "name": "stderr",
     "output_type": "stream",
     "text": [
      "\n",
      "[notice] A new release of pip is available: 24.0 -> 24.3.1\n",
      "[notice] To update, run: python.exe -m pip install --upgrade pip\n"
     ]
    }
   ],
   "source": [
    "pip install mysql-connector-python\n"
   ]
  },
  {
   "cell_type": "code",
   "execution_count": 3,
   "metadata": {},
   "outputs": [],
   "source": [
    "import mysql.connector"
   ]
  },
  {
   "cell_type": "code",
   "execution_count": null,
   "metadata": {},
   "outputs": [],
   "source": [
    "mydb = mysql.connector.connect(\n",
    " host=\"localhost\",\n",
    " user=\"root\",\n",
    " password=\"\",\n",
    "\n",
    "\n",
    ")\n",
    "print(mydb)\n",
    "mycursor = mydb.cursor(buffered=True)\n"
   ]
  },
  {
   "cell_type": "code",
   "execution_count": 251,
   "metadata": {},
   "outputs": [],
   "source": [
    "mycursor.execute(\"CREATE DATABASE Data_Insights\")"
   ]
  },
  {
   "cell_type": "code",
   "execution_count": 166,
   "metadata": {},
   "outputs": [],
   "source": [
    "mycursor.execute(\"use data_insights\")"
   ]
  },
  {
   "cell_type": "code",
   "execution_count": 39,
   "metadata": {},
   "outputs": [],
   "source": [
    "\n",
    "file_path = r\"C:\\Users\\rakes\\OneDrive\\Desktop\\Kavitha\\Data insights\\Exchange_Rates.csv\"\n",
    "\n",
    "# Try with latin1 encoding\n",
    "df_Exchange = pd.read_csv(file_path, encoding='latin1')"
   ]
  },
  {
   "cell_type": "code",
   "execution_count": 40,
   "metadata": {},
   "outputs": [
    {
     "name": "stdout",
     "output_type": "stream",
     "text": [
      "<class 'pandas.core.frame.DataFrame'>\n",
      "RangeIndex: 11215 entries, 0 to 11214\n",
      "Data columns (total 3 columns):\n",
      " #   Column    Non-Null Count  Dtype  \n",
      "---  ------    --------------  -----  \n",
      " 0   Date      11215 non-null  object \n",
      " 1   Currency  11215 non-null  object \n",
      " 2   Exchange  11215 non-null  float64\n",
      "dtypes: float64(1), object(2)\n",
      "memory usage: 263.0+ KB\n"
     ]
    }
   ],
   "source": [
    "df_Exchange.info()"
   ]
  },
  {
   "cell_type": "code",
   "execution_count": 41,
   "metadata": {},
   "outputs": [],
   "source": [
    "df_Exchange['Date']= pd.to_datetime(df_Exchange['Date'])"
   ]
  },
  {
   "cell_type": "code",
   "execution_count": 264,
   "metadata": {},
   "outputs": [
    {
     "name": "stdout",
     "output_type": "stream",
     "text": [
      "<class 'pandas.core.frame.DataFrame'>\n"
     ]
    }
   ],
   "source": [
    "print(type(df_Exchange))"
   ]
  },
  {
   "cell_type": "code",
   "execution_count": 42,
   "metadata": {},
   "outputs": [],
   "source": [
    "df_Exchange.rename(\n",
    "    columns = {\n",
    "        'Date':'Order_Date',\n",
    "        'Currency':'Currency_Code'\n",
    "    },\n",
    "    inplace=True\n",
    ")"
   ]
  },
  {
   "cell_type": "code",
   "execution_count": 43,
   "metadata": {},
   "outputs": [
    {
     "data": {
      "text/plain": [
       "Order_Date       0\n",
       "Currency_Code    0\n",
       "Exchange         0\n",
       "dtype: int64"
      ]
     },
     "execution_count": 43,
     "metadata": {},
     "output_type": "execute_result"
    }
   ],
   "source": [
    "df_Exchange.isnull().sum()"
   ]
  },
  {
   "cell_type": "code",
   "execution_count": 44,
   "metadata": {},
   "outputs": [
    {
     "name": "stdout",
     "output_type": "stream",
     "text": [
      "<class 'pandas.core.frame.DataFrame'>\n",
      "RangeIndex: 11215 entries, 0 to 11214\n",
      "Data columns (total 3 columns):\n",
      " #   Column         Non-Null Count  Dtype         \n",
      "---  ------         --------------  -----         \n",
      " 0   Order_Date     11215 non-null  datetime64[ns]\n",
      " 1   Currency_Code  11215 non-null  object        \n",
      " 2   Exchange       11215 non-null  float64       \n",
      "dtypes: datetime64[ns](1), float64(1), object(1)\n",
      "memory usage: 263.0+ KB\n"
     ]
    }
   ],
   "source": [
    "df_Exchange.info()"
   ]
  },
  {
   "cell_type": "code",
   "execution_count": 45,
   "metadata": {},
   "outputs": [],
   "source": [
    "#merging all datasets\n",
    "df_alldata = pd.merge(df_Sales,df_customers,on='Customer_Key',how='inner')"
   ]
  },
  {
   "cell_type": "code",
   "execution_count": 271,
   "metadata": {},
   "outputs": [
    {
     "data": {
      "text/html": [
       "<div>\n",
       "<style scoped>\n",
       "    .dataframe tbody tr th:only-of-type {\n",
       "        vertical-align: middle;\n",
       "    }\n",
       "\n",
       "    .dataframe tbody tr th {\n",
       "        vertical-align: top;\n",
       "    }\n",
       "\n",
       "    .dataframe thead th {\n",
       "        text-align: right;\n",
       "    }\n",
       "</style>\n",
       "<table border=\"1\" class=\"dataframe\">\n",
       "  <thead>\n",
       "    <tr style=\"text-align: right;\">\n",
       "      <th></th>\n",
       "      <th>Order_Number</th>\n",
       "      <th>Line_Item</th>\n",
       "      <th>Order_Date</th>\n",
       "      <th>Customer_Key</th>\n",
       "      <th>Store_Key</th>\n",
       "      <th>Product_Key</th>\n",
       "      <th>Quantity</th>\n",
       "      <th>Currency_Code</th>\n",
       "      <th>Gender</th>\n",
       "      <th>Name</th>\n",
       "      <th>City</th>\n",
       "      <th>State_Code</th>\n",
       "      <th>State</th>\n",
       "      <th>Zip_Code</th>\n",
       "      <th>Country</th>\n",
       "      <th>Continent</th>\n",
       "      <th>Birthday</th>\n",
       "    </tr>\n",
       "  </thead>\n",
       "  <tbody>\n",
       "    <tr>\n",
       "      <th>0</th>\n",
       "      <td>366000</td>\n",
       "      <td>1</td>\n",
       "      <td>2016-01-01</td>\n",
       "      <td>265598</td>\n",
       "      <td>10</td>\n",
       "      <td>1304</td>\n",
       "      <td>1</td>\n",
       "      <td>CAD</td>\n",
       "      <td>Male</td>\n",
       "      <td>Tyler Vaught</td>\n",
       "      <td>London</td>\n",
       "      <td>ON</td>\n",
       "      <td>Ontario</td>\n",
       "      <td>N5W 5K6</td>\n",
       "      <td>Canada</td>\n",
       "      <td>North America</td>\n",
       "      <td>1971-03-23</td>\n",
       "    </tr>\n",
       "    <tr>\n",
       "      <th>1</th>\n",
       "      <td>366001</td>\n",
       "      <td>1</td>\n",
       "      <td>2016-01-01</td>\n",
       "      <td>1269051</td>\n",
       "      <td>0</td>\n",
       "      <td>1048</td>\n",
       "      <td>2</td>\n",
       "      <td>USD</td>\n",
       "      <td>Male</td>\n",
       "      <td>Frank Upchurch</td>\n",
       "      <td>Auberry</td>\n",
       "      <td>CA</td>\n",
       "      <td>California</td>\n",
       "      <td>93602</td>\n",
       "      <td>United States</td>\n",
       "      <td>North America</td>\n",
       "      <td>1995-11-20</td>\n",
       "    </tr>\n",
       "    <tr>\n",
       "      <th>2</th>\n",
       "      <td>366001</td>\n",
       "      <td>2</td>\n",
       "      <td>2016-01-01</td>\n",
       "      <td>1269051</td>\n",
       "      <td>0</td>\n",
       "      <td>2007</td>\n",
       "      <td>1</td>\n",
       "      <td>USD</td>\n",
       "      <td>Male</td>\n",
       "      <td>Frank Upchurch</td>\n",
       "      <td>Auberry</td>\n",
       "      <td>CA</td>\n",
       "      <td>California</td>\n",
       "      <td>93602</td>\n",
       "      <td>United States</td>\n",
       "      <td>North America</td>\n",
       "      <td>1995-11-20</td>\n",
       "    </tr>\n",
       "    <tr>\n",
       "      <th>3</th>\n",
       "      <td>366002</td>\n",
       "      <td>1</td>\n",
       "      <td>2016-01-01</td>\n",
       "      <td>266019</td>\n",
       "      <td>0</td>\n",
       "      <td>1106</td>\n",
       "      <td>7</td>\n",
       "      <td>CAD</td>\n",
       "      <td>Female</td>\n",
       "      <td>Joan Roche</td>\n",
       "      <td>Red Deer</td>\n",
       "      <td>AB</td>\n",
       "      <td>Alberta</td>\n",
       "      <td>T4N 2A6</td>\n",
       "      <td>Canada</td>\n",
       "      <td>North America</td>\n",
       "      <td>1962-08-24</td>\n",
       "    </tr>\n",
       "    <tr>\n",
       "      <th>4</th>\n",
       "      <td>366002</td>\n",
       "      <td>2</td>\n",
       "      <td>2016-01-01</td>\n",
       "      <td>266019</td>\n",
       "      <td>0</td>\n",
       "      <td>373</td>\n",
       "      <td>1</td>\n",
       "      <td>CAD</td>\n",
       "      <td>Female</td>\n",
       "      <td>Joan Roche</td>\n",
       "      <td>Red Deer</td>\n",
       "      <td>AB</td>\n",
       "      <td>Alberta</td>\n",
       "      <td>T4N 2A6</td>\n",
       "      <td>Canada</td>\n",
       "      <td>North America</td>\n",
       "      <td>1962-08-24</td>\n",
       "    </tr>\n",
       "    <tr>\n",
       "      <th>...</th>\n",
       "      <td>...</td>\n",
       "      <td>...</td>\n",
       "      <td>...</td>\n",
       "      <td>...</td>\n",
       "      <td>...</td>\n",
       "      <td>...</td>\n",
       "      <td>...</td>\n",
       "      <td>...</td>\n",
       "      <td>...</td>\n",
       "      <td>...</td>\n",
       "      <td>...</td>\n",
       "      <td>...</td>\n",
       "      <td>...</td>\n",
       "      <td>...</td>\n",
       "      <td>...</td>\n",
       "      <td>...</td>\n",
       "      <td>...</td>\n",
       "    </tr>\n",
       "    <tr>\n",
       "      <th>62849</th>\n",
       "      <td>2243030</td>\n",
       "      <td>1</td>\n",
       "      <td>2021-02-20</td>\n",
       "      <td>1216913</td>\n",
       "      <td>43</td>\n",
       "      <td>632</td>\n",
       "      <td>3</td>\n",
       "      <td>USD</td>\n",
       "      <td>Male</td>\n",
       "      <td>Donald Woodie</td>\n",
       "      <td>Garden Grove</td>\n",
       "      <td>CA</td>\n",
       "      <td>California</td>\n",
       "      <td>92643</td>\n",
       "      <td>United States</td>\n",
       "      <td>North America</td>\n",
       "      <td>1939-04-16</td>\n",
       "    </tr>\n",
       "    <tr>\n",
       "      <th>62850</th>\n",
       "      <td>2243031</td>\n",
       "      <td>1</td>\n",
       "      <td>2021-02-20</td>\n",
       "      <td>511229</td>\n",
       "      <td>0</td>\n",
       "      <td>98</td>\n",
       "      <td>4</td>\n",
       "      <td>EUR</td>\n",
       "      <td>Female</td>\n",
       "      <td>Gabriele Thalberg</td>\n",
       "      <td>Stuttgart Frauenkopf</td>\n",
       "      <td>BW</td>\n",
       "      <td>Baden-Württemberg</td>\n",
       "      <td>70184</td>\n",
       "      <td>Germany</td>\n",
       "      <td>Europe</td>\n",
       "      <td>1940-03-10</td>\n",
       "    </tr>\n",
       "    <tr>\n",
       "      <th>62851</th>\n",
       "      <td>2243032</td>\n",
       "      <td>1</td>\n",
       "      <td>2021-02-20</td>\n",
       "      <td>331277</td>\n",
       "      <td>0</td>\n",
       "      <td>1613</td>\n",
       "      <td>2</td>\n",
       "      <td>CAD</td>\n",
       "      <td>Male</td>\n",
       "      <td>William Rochelle</td>\n",
       "      <td>Calgary</td>\n",
       "      <td>AB</td>\n",
       "      <td>Alberta</td>\n",
       "      <td>T2T 0C6</td>\n",
       "      <td>Canada</td>\n",
       "      <td>North America</td>\n",
       "      <td>1993-05-25</td>\n",
       "    </tr>\n",
       "    <tr>\n",
       "      <th>62852</th>\n",
       "      <td>2243032</td>\n",
       "      <td>2</td>\n",
       "      <td>2021-02-20</td>\n",
       "      <td>331277</td>\n",
       "      <td>0</td>\n",
       "      <td>1717</td>\n",
       "      <td>2</td>\n",
       "      <td>CAD</td>\n",
       "      <td>Male</td>\n",
       "      <td>William Rochelle</td>\n",
       "      <td>Calgary</td>\n",
       "      <td>AB</td>\n",
       "      <td>Alberta</td>\n",
       "      <td>T2T 0C6</td>\n",
       "      <td>Canada</td>\n",
       "      <td>North America</td>\n",
       "      <td>1993-05-25</td>\n",
       "    </tr>\n",
       "    <tr>\n",
       "      <th>62853</th>\n",
       "      <td>2243032</td>\n",
       "      <td>3</td>\n",
       "      <td>2021-02-20</td>\n",
       "      <td>331277</td>\n",
       "      <td>0</td>\n",
       "      <td>464</td>\n",
       "      <td>7</td>\n",
       "      <td>CAD</td>\n",
       "      <td>Male</td>\n",
       "      <td>William Rochelle</td>\n",
       "      <td>Calgary</td>\n",
       "      <td>AB</td>\n",
       "      <td>Alberta</td>\n",
       "      <td>T2T 0C6</td>\n",
       "      <td>Canada</td>\n",
       "      <td>North America</td>\n",
       "      <td>1993-05-25</td>\n",
       "    </tr>\n",
       "  </tbody>\n",
       "</table>\n",
       "<p>62854 rows × 17 columns</p>\n",
       "</div>"
      ],
      "text/plain": [
       "       Order_Number  Line_Item Order_Date  Customer_Key  Store_Key  \\\n",
       "0            366000          1 2016-01-01        265598         10   \n",
       "1            366001          1 2016-01-01       1269051          0   \n",
       "2            366001          2 2016-01-01       1269051          0   \n",
       "3            366002          1 2016-01-01        266019          0   \n",
       "4            366002          2 2016-01-01        266019          0   \n",
       "...             ...        ...        ...           ...        ...   \n",
       "62849       2243030          1 2021-02-20       1216913         43   \n",
       "62850       2243031          1 2021-02-20        511229          0   \n",
       "62851       2243032          1 2021-02-20        331277          0   \n",
       "62852       2243032          2 2021-02-20        331277          0   \n",
       "62853       2243032          3 2021-02-20        331277          0   \n",
       "\n",
       "       Product_Key  Quantity Currency_Code  Gender               Name  \\\n",
       "0             1304         1           CAD    Male       Tyler Vaught   \n",
       "1             1048         2           USD    Male     Frank Upchurch   \n",
       "2             2007         1           USD    Male     Frank Upchurch   \n",
       "3             1106         7           CAD  Female         Joan Roche   \n",
       "4              373         1           CAD  Female         Joan Roche   \n",
       "...            ...       ...           ...     ...                ...   \n",
       "62849          632         3           USD    Male      Donald Woodie   \n",
       "62850           98         4           EUR  Female  Gabriele Thalberg   \n",
       "62851         1613         2           CAD    Male   William Rochelle   \n",
       "62852         1717         2           CAD    Male   William Rochelle   \n",
       "62853          464         7           CAD    Male   William Rochelle   \n",
       "\n",
       "                       City State_Code              State Zip_Code  \\\n",
       "0                    London         ON            Ontario  N5W 5K6   \n",
       "1                   Auberry         CA         California    93602   \n",
       "2                   Auberry         CA         California    93602   \n",
       "3                  Red Deer         AB            Alberta  T4N 2A6   \n",
       "4                  Red Deer         AB            Alberta  T4N 2A6   \n",
       "...                     ...        ...                ...      ...   \n",
       "62849          Garden Grove         CA         California    92643   \n",
       "62850  Stuttgart Frauenkopf         BW  Baden-Württemberg    70184   \n",
       "62851               Calgary         AB            Alberta  T2T 0C6   \n",
       "62852               Calgary         AB            Alberta  T2T 0C6   \n",
       "62853               Calgary         AB            Alberta  T2T 0C6   \n",
       "\n",
       "             Country      Continent   Birthday  \n",
       "0             Canada  North America 1971-03-23  \n",
       "1      United States  North America 1995-11-20  \n",
       "2      United States  North America 1995-11-20  \n",
       "3             Canada  North America 1962-08-24  \n",
       "4             Canada  North America 1962-08-24  \n",
       "...              ...            ...        ...  \n",
       "62849  United States  North America 1939-04-16  \n",
       "62850        Germany         Europe 1940-03-10  \n",
       "62851         Canada  North America 1993-05-25  \n",
       "62852         Canada  North America 1993-05-25  \n",
       "62853         Canada  North America 1993-05-25  \n",
       "\n",
       "[62854 rows x 17 columns]"
      ]
     },
     "execution_count": 271,
     "metadata": {},
     "output_type": "execute_result"
    }
   ],
   "source": [
    "df_alldata"
   ]
  },
  {
   "cell_type": "code",
   "execution_count": 46,
   "metadata": {},
   "outputs": [],
   "source": [
    "df_alldata = pd.merge(df_alldata,df_Exchange,on=['Order_Date','Currency_Code'],how = 'inner')"
   ]
  },
  {
   "cell_type": "code",
   "execution_count": 47,
   "metadata": {},
   "outputs": [
    {
     "data": {
      "text/html": [
       "<div>\n",
       "<style scoped>\n",
       "    .dataframe tbody tr th:only-of-type {\n",
       "        vertical-align: middle;\n",
       "    }\n",
       "\n",
       "    .dataframe tbody tr th {\n",
       "        vertical-align: top;\n",
       "    }\n",
       "\n",
       "    .dataframe thead th {\n",
       "        text-align: right;\n",
       "    }\n",
       "</style>\n",
       "<table border=\"1\" class=\"dataframe\">\n",
       "  <thead>\n",
       "    <tr style=\"text-align: right;\">\n",
       "      <th></th>\n",
       "      <th>Order_Number</th>\n",
       "      <th>Line_Item</th>\n",
       "      <th>Order_Date</th>\n",
       "      <th>Customer_Key</th>\n",
       "      <th>Store_Key</th>\n",
       "      <th>Product_Key</th>\n",
       "      <th>Quantity</th>\n",
       "      <th>Currency_Code</th>\n",
       "      <th>Gender</th>\n",
       "      <th>Name</th>\n",
       "      <th>City</th>\n",
       "      <th>State_Code</th>\n",
       "      <th>State</th>\n",
       "      <th>Zip_Code</th>\n",
       "      <th>Country</th>\n",
       "      <th>Continent</th>\n",
       "      <th>Birthday</th>\n",
       "      <th>Exchange</th>\n",
       "    </tr>\n",
       "  </thead>\n",
       "  <tbody>\n",
       "    <tr>\n",
       "      <th>0</th>\n",
       "      <td>366000</td>\n",
       "      <td>1</td>\n",
       "      <td>2016-01-01</td>\n",
       "      <td>265598</td>\n",
       "      <td>10</td>\n",
       "      <td>1304</td>\n",
       "      <td>1</td>\n",
       "      <td>CAD</td>\n",
       "      <td>Male</td>\n",
       "      <td>Tyler Vaught</td>\n",
       "      <td>London</td>\n",
       "      <td>ON</td>\n",
       "      <td>Ontario</td>\n",
       "      <td>N5W 5K6</td>\n",
       "      <td>Canada</td>\n",
       "      <td>North America</td>\n",
       "      <td>1971-03-23</td>\n",
       "      <td>1.3884</td>\n",
       "    </tr>\n",
       "    <tr>\n",
       "      <th>1</th>\n",
       "      <td>366001</td>\n",
       "      <td>1</td>\n",
       "      <td>2016-01-01</td>\n",
       "      <td>1269051</td>\n",
       "      <td>0</td>\n",
       "      <td>1048</td>\n",
       "      <td>2</td>\n",
       "      <td>USD</td>\n",
       "      <td>Male</td>\n",
       "      <td>Frank Upchurch</td>\n",
       "      <td>Auberry</td>\n",
       "      <td>CA</td>\n",
       "      <td>California</td>\n",
       "      <td>93602</td>\n",
       "      <td>United States</td>\n",
       "      <td>North America</td>\n",
       "      <td>1995-11-20</td>\n",
       "      <td>1.0000</td>\n",
       "    </tr>\n",
       "    <tr>\n",
       "      <th>2</th>\n",
       "      <td>366001</td>\n",
       "      <td>2</td>\n",
       "      <td>2016-01-01</td>\n",
       "      <td>1269051</td>\n",
       "      <td>0</td>\n",
       "      <td>2007</td>\n",
       "      <td>1</td>\n",
       "      <td>USD</td>\n",
       "      <td>Male</td>\n",
       "      <td>Frank Upchurch</td>\n",
       "      <td>Auberry</td>\n",
       "      <td>CA</td>\n",
       "      <td>California</td>\n",
       "      <td>93602</td>\n",
       "      <td>United States</td>\n",
       "      <td>North America</td>\n",
       "      <td>1995-11-20</td>\n",
       "      <td>1.0000</td>\n",
       "    </tr>\n",
       "    <tr>\n",
       "      <th>3</th>\n",
       "      <td>366002</td>\n",
       "      <td>1</td>\n",
       "      <td>2016-01-01</td>\n",
       "      <td>266019</td>\n",
       "      <td>0</td>\n",
       "      <td>1106</td>\n",
       "      <td>7</td>\n",
       "      <td>CAD</td>\n",
       "      <td>Female</td>\n",
       "      <td>Joan Roche</td>\n",
       "      <td>Red Deer</td>\n",
       "      <td>AB</td>\n",
       "      <td>Alberta</td>\n",
       "      <td>T4N 2A6</td>\n",
       "      <td>Canada</td>\n",
       "      <td>North America</td>\n",
       "      <td>1962-08-24</td>\n",
       "      <td>1.3884</td>\n",
       "    </tr>\n",
       "    <tr>\n",
       "      <th>4</th>\n",
       "      <td>366002</td>\n",
       "      <td>2</td>\n",
       "      <td>2016-01-01</td>\n",
       "      <td>266019</td>\n",
       "      <td>0</td>\n",
       "      <td>373</td>\n",
       "      <td>1</td>\n",
       "      <td>CAD</td>\n",
       "      <td>Female</td>\n",
       "      <td>Joan Roche</td>\n",
       "      <td>Red Deer</td>\n",
       "      <td>AB</td>\n",
       "      <td>Alberta</td>\n",
       "      <td>T4N 2A6</td>\n",
       "      <td>Canada</td>\n",
       "      <td>North America</td>\n",
       "      <td>1962-08-24</td>\n",
       "      <td>1.3884</td>\n",
       "    </tr>\n",
       "    <tr>\n",
       "      <th>...</th>\n",
       "      <td>...</td>\n",
       "      <td>...</td>\n",
       "      <td>...</td>\n",
       "      <td>...</td>\n",
       "      <td>...</td>\n",
       "      <td>...</td>\n",
       "      <td>...</td>\n",
       "      <td>...</td>\n",
       "      <td>...</td>\n",
       "      <td>...</td>\n",
       "      <td>...</td>\n",
       "      <td>...</td>\n",
       "      <td>...</td>\n",
       "      <td>...</td>\n",
       "      <td>...</td>\n",
       "      <td>...</td>\n",
       "      <td>...</td>\n",
       "      <td>...</td>\n",
       "    </tr>\n",
       "    <tr>\n",
       "      <th>62849</th>\n",
       "      <td>2243030</td>\n",
       "      <td>1</td>\n",
       "      <td>2021-02-20</td>\n",
       "      <td>1216913</td>\n",
       "      <td>43</td>\n",
       "      <td>632</td>\n",
       "      <td>3</td>\n",
       "      <td>USD</td>\n",
       "      <td>Male</td>\n",
       "      <td>Donald Woodie</td>\n",
       "      <td>Garden Grove</td>\n",
       "      <td>CA</td>\n",
       "      <td>California</td>\n",
       "      <td>92643</td>\n",
       "      <td>United States</td>\n",
       "      <td>North America</td>\n",
       "      <td>1939-04-16</td>\n",
       "      <td>1.0000</td>\n",
       "    </tr>\n",
       "    <tr>\n",
       "      <th>62850</th>\n",
       "      <td>2243031</td>\n",
       "      <td>1</td>\n",
       "      <td>2021-02-20</td>\n",
       "      <td>511229</td>\n",
       "      <td>0</td>\n",
       "      <td>98</td>\n",
       "      <td>4</td>\n",
       "      <td>EUR</td>\n",
       "      <td>Female</td>\n",
       "      <td>Gabriele Thalberg</td>\n",
       "      <td>Stuttgart Frauenkopf</td>\n",
       "      <td>BW</td>\n",
       "      <td>Baden-Württemberg</td>\n",
       "      <td>70184</td>\n",
       "      <td>Germany</td>\n",
       "      <td>Europe</td>\n",
       "      <td>1940-03-10</td>\n",
       "      <td>0.8238</td>\n",
       "    </tr>\n",
       "    <tr>\n",
       "      <th>62851</th>\n",
       "      <td>2243032</td>\n",
       "      <td>1</td>\n",
       "      <td>2021-02-20</td>\n",
       "      <td>331277</td>\n",
       "      <td>0</td>\n",
       "      <td>1613</td>\n",
       "      <td>2</td>\n",
       "      <td>CAD</td>\n",
       "      <td>Male</td>\n",
       "      <td>William Rochelle</td>\n",
       "      <td>Calgary</td>\n",
       "      <td>AB</td>\n",
       "      <td>Alberta</td>\n",
       "      <td>T2T 0C6</td>\n",
       "      <td>Canada</td>\n",
       "      <td>North America</td>\n",
       "      <td>1993-05-25</td>\n",
       "      <td>1.2610</td>\n",
       "    </tr>\n",
       "    <tr>\n",
       "      <th>62852</th>\n",
       "      <td>2243032</td>\n",
       "      <td>2</td>\n",
       "      <td>2021-02-20</td>\n",
       "      <td>331277</td>\n",
       "      <td>0</td>\n",
       "      <td>1717</td>\n",
       "      <td>2</td>\n",
       "      <td>CAD</td>\n",
       "      <td>Male</td>\n",
       "      <td>William Rochelle</td>\n",
       "      <td>Calgary</td>\n",
       "      <td>AB</td>\n",
       "      <td>Alberta</td>\n",
       "      <td>T2T 0C6</td>\n",
       "      <td>Canada</td>\n",
       "      <td>North America</td>\n",
       "      <td>1993-05-25</td>\n",
       "      <td>1.2610</td>\n",
       "    </tr>\n",
       "    <tr>\n",
       "      <th>62853</th>\n",
       "      <td>2243032</td>\n",
       "      <td>3</td>\n",
       "      <td>2021-02-20</td>\n",
       "      <td>331277</td>\n",
       "      <td>0</td>\n",
       "      <td>464</td>\n",
       "      <td>7</td>\n",
       "      <td>CAD</td>\n",
       "      <td>Male</td>\n",
       "      <td>William Rochelle</td>\n",
       "      <td>Calgary</td>\n",
       "      <td>AB</td>\n",
       "      <td>Alberta</td>\n",
       "      <td>T2T 0C6</td>\n",
       "      <td>Canada</td>\n",
       "      <td>North America</td>\n",
       "      <td>1993-05-25</td>\n",
       "      <td>1.2610</td>\n",
       "    </tr>\n",
       "  </tbody>\n",
       "</table>\n",
       "<p>62854 rows × 18 columns</p>\n",
       "</div>"
      ],
      "text/plain": [
       "       Order_Number  Line_Item Order_Date  Customer_Key  Store_Key  \\\n",
       "0            366000          1 2016-01-01        265598         10   \n",
       "1            366001          1 2016-01-01       1269051          0   \n",
       "2            366001          2 2016-01-01       1269051          0   \n",
       "3            366002          1 2016-01-01        266019          0   \n",
       "4            366002          2 2016-01-01        266019          0   \n",
       "...             ...        ...        ...           ...        ...   \n",
       "62849       2243030          1 2021-02-20       1216913         43   \n",
       "62850       2243031          1 2021-02-20        511229          0   \n",
       "62851       2243032          1 2021-02-20        331277          0   \n",
       "62852       2243032          2 2021-02-20        331277          0   \n",
       "62853       2243032          3 2021-02-20        331277          0   \n",
       "\n",
       "       Product_Key  Quantity Currency_Code  Gender               Name  \\\n",
       "0             1304         1           CAD    Male       Tyler Vaught   \n",
       "1             1048         2           USD    Male     Frank Upchurch   \n",
       "2             2007         1           USD    Male     Frank Upchurch   \n",
       "3             1106         7           CAD  Female         Joan Roche   \n",
       "4              373         1           CAD  Female         Joan Roche   \n",
       "...            ...       ...           ...     ...                ...   \n",
       "62849          632         3           USD    Male      Donald Woodie   \n",
       "62850           98         4           EUR  Female  Gabriele Thalberg   \n",
       "62851         1613         2           CAD    Male   William Rochelle   \n",
       "62852         1717         2           CAD    Male   William Rochelle   \n",
       "62853          464         7           CAD    Male   William Rochelle   \n",
       "\n",
       "                       City State_Code              State Zip_Code  \\\n",
       "0                    London         ON            Ontario  N5W 5K6   \n",
       "1                   Auberry         CA         California    93602   \n",
       "2                   Auberry         CA         California    93602   \n",
       "3                  Red Deer         AB            Alberta  T4N 2A6   \n",
       "4                  Red Deer         AB            Alberta  T4N 2A6   \n",
       "...                     ...        ...                ...      ...   \n",
       "62849          Garden Grove         CA         California    92643   \n",
       "62850  Stuttgart Frauenkopf         BW  Baden-Württemberg    70184   \n",
       "62851               Calgary         AB            Alberta  T2T 0C6   \n",
       "62852               Calgary         AB            Alberta  T2T 0C6   \n",
       "62853               Calgary         AB            Alberta  T2T 0C6   \n",
       "\n",
       "             Country      Continent   Birthday  Exchange  \n",
       "0             Canada  North America 1971-03-23    1.3884  \n",
       "1      United States  North America 1995-11-20    1.0000  \n",
       "2      United States  North America 1995-11-20    1.0000  \n",
       "3             Canada  North America 1962-08-24    1.3884  \n",
       "4             Canada  North America 1962-08-24    1.3884  \n",
       "...              ...            ...        ...       ...  \n",
       "62849  United States  North America 1939-04-16    1.0000  \n",
       "62850        Germany         Europe 1940-03-10    0.8238  \n",
       "62851         Canada  North America 1993-05-25    1.2610  \n",
       "62852         Canada  North America 1993-05-25    1.2610  \n",
       "62853         Canada  North America 1993-05-25    1.2610  \n",
       "\n",
       "[62854 rows x 18 columns]"
      ]
     },
     "execution_count": 47,
     "metadata": {},
     "output_type": "execute_result"
    }
   ],
   "source": [
    "df_alldata"
   ]
  },
  {
   "cell_type": "code",
   "execution_count": 48,
   "metadata": {},
   "outputs": [
    {
     "data": {
      "text/html": [
       "<div>\n",
       "<style scoped>\n",
       "    .dataframe tbody tr th:only-of-type {\n",
       "        vertical-align: middle;\n",
       "    }\n",
       "\n",
       "    .dataframe tbody tr th {\n",
       "        vertical-align: top;\n",
       "    }\n",
       "\n",
       "    .dataframe thead th {\n",
       "        text-align: right;\n",
       "    }\n",
       "</style>\n",
       "<table border=\"1\" class=\"dataframe\">\n",
       "  <thead>\n",
       "    <tr style=\"text-align: right;\">\n",
       "      <th></th>\n",
       "      <th>Store_Key</th>\n",
       "      <th>Country</th>\n",
       "      <th>State</th>\n",
       "      <th>Square_Meters</th>\n",
       "      <th>Open_Date</th>\n",
       "    </tr>\n",
       "  </thead>\n",
       "  <tbody>\n",
       "    <tr>\n",
       "      <th>0</th>\n",
       "      <td>1</td>\n",
       "      <td>Australia</td>\n",
       "      <td>Australian Capital Territory</td>\n",
       "      <td>595.0</td>\n",
       "      <td>2008-01-01</td>\n",
       "    </tr>\n",
       "    <tr>\n",
       "      <th>1</th>\n",
       "      <td>2</td>\n",
       "      <td>Australia</td>\n",
       "      <td>Northern Territory</td>\n",
       "      <td>665.0</td>\n",
       "      <td>2008-01-12</td>\n",
       "    </tr>\n",
       "    <tr>\n",
       "      <th>2</th>\n",
       "      <td>3</td>\n",
       "      <td>Australia</td>\n",
       "      <td>South Australia</td>\n",
       "      <td>2000.0</td>\n",
       "      <td>2012-01-07</td>\n",
       "    </tr>\n",
       "    <tr>\n",
       "      <th>3</th>\n",
       "      <td>4</td>\n",
       "      <td>Australia</td>\n",
       "      <td>Tasmania</td>\n",
       "      <td>2000.0</td>\n",
       "      <td>2010-01-01</td>\n",
       "    </tr>\n",
       "    <tr>\n",
       "      <th>4</th>\n",
       "      <td>5</td>\n",
       "      <td>Australia</td>\n",
       "      <td>Victoria</td>\n",
       "      <td>2000.0</td>\n",
       "      <td>2015-12-09</td>\n",
       "    </tr>\n",
       "  </tbody>\n",
       "</table>\n",
       "</div>"
      ],
      "text/plain": [
       "   Store_Key    Country                         State  Square_Meters  \\\n",
       "0          1  Australia  Australian Capital Territory          595.0   \n",
       "1          2  Australia            Northern Territory          665.0   \n",
       "2          3  Australia               South Australia         2000.0   \n",
       "3          4  Australia                      Tasmania         2000.0   \n",
       "4          5  Australia                      Victoria         2000.0   \n",
       "\n",
       "   Open_Date  \n",
       "0 2008-01-01  \n",
       "1 2008-01-12  \n",
       "2 2012-01-07  \n",
       "3 2010-01-01  \n",
       "4 2015-12-09  "
      ]
     },
     "execution_count": 48,
     "metadata": {},
     "output_type": "execute_result"
    }
   ],
   "source": [
    "df_Stores.head()"
   ]
  },
  {
   "cell_type": "code",
   "execution_count": 49,
   "metadata": {},
   "outputs": [],
   "source": [
    "df_Stores.rename(\n",
    "    columns = {\n",
    "        'StoreKey':'Store_Key'\n",
    "    \n",
    "    },\n",
    "    inplace=True\n",
    ")"
   ]
  },
  {
   "cell_type": "code",
   "execution_count": 50,
   "metadata": {},
   "outputs": [
    {
     "name": "stdout",
     "output_type": "stream",
     "text": [
      "<class 'pandas.core.frame.DataFrame'>\n",
      "RangeIndex: 67 entries, 0 to 66\n",
      "Data columns (total 5 columns):\n",
      " #   Column         Non-Null Count  Dtype         \n",
      "---  ------         --------------  -----         \n",
      " 0   Store_Key      67 non-null     int64         \n",
      " 1   Country        67 non-null     object        \n",
      " 2   State          67 non-null     object        \n",
      " 3   Square_Meters  67 non-null     float64       \n",
      " 4   Open_Date      67 non-null     datetime64[ns]\n",
      "dtypes: datetime64[ns](1), float64(1), int64(1), object(2)\n",
      "memory usage: 2.7+ KB\n"
     ]
    }
   ],
   "source": [
    "df_Stores.info()"
   ]
  },
  {
   "cell_type": "code",
   "execution_count": 51,
   "metadata": {},
   "outputs": [],
   "source": [
    "df_alldata=pd.merge(df_alldata,df_Stores,on=['Store_Key','Country','State'],how='inner')"
   ]
  },
  {
   "cell_type": "code",
   "execution_count": 52,
   "metadata": {},
   "outputs": [
    {
     "data": {
      "text/html": [
       "<div>\n",
       "<style scoped>\n",
       "    .dataframe tbody tr th:only-of-type {\n",
       "        vertical-align: middle;\n",
       "    }\n",
       "\n",
       "    .dataframe tbody tr th {\n",
       "        vertical-align: top;\n",
       "    }\n",
       "\n",
       "    .dataframe thead th {\n",
       "        text-align: right;\n",
       "    }\n",
       "</style>\n",
       "<table border=\"1\" class=\"dataframe\">\n",
       "  <thead>\n",
       "    <tr style=\"text-align: right;\">\n",
       "      <th></th>\n",
       "      <th>Order_Number</th>\n",
       "      <th>Line_Item</th>\n",
       "      <th>Order_Date</th>\n",
       "      <th>Customer_Key</th>\n",
       "      <th>Store_Key</th>\n",
       "      <th>Product_Key</th>\n",
       "      <th>Quantity</th>\n",
       "      <th>Currency_Code</th>\n",
       "      <th>Gender</th>\n",
       "      <th>Name</th>\n",
       "      <th>City</th>\n",
       "      <th>State_Code</th>\n",
       "      <th>State</th>\n",
       "      <th>Zip_Code</th>\n",
       "      <th>Country</th>\n",
       "      <th>Continent</th>\n",
       "      <th>Birthday</th>\n",
       "      <th>Exchange</th>\n",
       "      <th>Square_Meters</th>\n",
       "      <th>Open_Date</th>\n",
       "    </tr>\n",
       "  </thead>\n",
       "  <tbody>\n",
       "    <tr>\n",
       "      <th>0</th>\n",
       "      <td>366005</td>\n",
       "      <td>1</td>\n",
       "      <td>2016-01-01</td>\n",
       "      <td>844003</td>\n",
       "      <td>33</td>\n",
       "      <td>421</td>\n",
       "      <td>4</td>\n",
       "      <td>EUR</td>\n",
       "      <td>Male</td>\n",
       "      <td>Ouassim Heuver</td>\n",
       "      <td>Leeuwarden</td>\n",
       "      <td>FR</td>\n",
       "      <td>Friesland</td>\n",
       "      <td>8916 CD</td>\n",
       "      <td>Netherlands</td>\n",
       "      <td>Europe</td>\n",
       "      <td>1995-06-22</td>\n",
       "      <td>0.9185</td>\n",
       "      <td>1540.0</td>\n",
       "      <td>2015-12-09</td>\n",
       "    </tr>\n",
       "    <tr>\n",
       "      <th>1</th>\n",
       "      <td>367006</td>\n",
       "      <td>1</td>\n",
       "      <td>2016-01-02</td>\n",
       "      <td>693285</td>\n",
       "      <td>18</td>\n",
       "      <td>2445</td>\n",
       "      <td>3</td>\n",
       "      <td>EUR</td>\n",
       "      <td>Female</td>\n",
       "      <td>Solaine Lanoie</td>\n",
       "      <td>DZAOUDZI</td>\n",
       "      <td>MY</td>\n",
       "      <td>Mayotte</td>\n",
       "      <td>97610</td>\n",
       "      <td>France</td>\n",
       "      <td>Europe</td>\n",
       "      <td>1978-11-20</td>\n",
       "      <td>0.9185</td>\n",
       "      <td>310.0</td>\n",
       "      <td>2012-08-08</td>\n",
       "    </tr>\n",
       "    <tr>\n",
       "      <th>2</th>\n",
       "      <td>367010</td>\n",
       "      <td>1</td>\n",
       "      <td>2016-01-02</td>\n",
       "      <td>1322959</td>\n",
       "      <td>66</td>\n",
       "      <td>917</td>\n",
       "      <td>1</td>\n",
       "      <td>USD</td>\n",
       "      <td>Male</td>\n",
       "      <td>Eric Williams</td>\n",
       "      <td>Big Piney</td>\n",
       "      <td>WY</td>\n",
       "      <td>Wyoming</td>\n",
       "      <td>83113</td>\n",
       "      <td>United States</td>\n",
       "      <td>North America</td>\n",
       "      <td>1959-11-05</td>\n",
       "      <td>1.0000</td>\n",
       "      <td>840.0</td>\n",
       "      <td>2014-01-01</td>\n",
       "    </tr>\n",
       "    <tr>\n",
       "      <th>3</th>\n",
       "      <td>367010</td>\n",
       "      <td>2</td>\n",
       "      <td>2016-01-02</td>\n",
       "      <td>1322959</td>\n",
       "      <td>66</td>\n",
       "      <td>39</td>\n",
       "      <td>1</td>\n",
       "      <td>USD</td>\n",
       "      <td>Male</td>\n",
       "      <td>Eric Williams</td>\n",
       "      <td>Big Piney</td>\n",
       "      <td>WY</td>\n",
       "      <td>Wyoming</td>\n",
       "      <td>83113</td>\n",
       "      <td>United States</td>\n",
       "      <td>North America</td>\n",
       "      <td>1959-11-05</td>\n",
       "      <td>1.0000</td>\n",
       "      <td>840.0</td>\n",
       "      <td>2014-01-01</td>\n",
       "    </tr>\n",
       "    <tr>\n",
       "      <th>4</th>\n",
       "      <td>369007</td>\n",
       "      <td>1</td>\n",
       "      <td>2016-01-04</td>\n",
       "      <td>571622</td>\n",
       "      <td>20</td>\n",
       "      <td>2510</td>\n",
       "      <td>3</td>\n",
       "      <td>EUR</td>\n",
       "      <td>Male</td>\n",
       "      <td>Sven Schulze</td>\n",
       "      <td>Birkenwerder</td>\n",
       "      <td>BB</td>\n",
       "      <td>Brandenburg</td>\n",
       "      <td>16547</td>\n",
       "      <td>Germany</td>\n",
       "      <td>Europe</td>\n",
       "      <td>1986-02-08</td>\n",
       "      <td>0.9176</td>\n",
       "      <td>1715.0</td>\n",
       "      <td>2012-12-15</td>\n",
       "    </tr>\n",
       "    <tr>\n",
       "      <th>...</th>\n",
       "      <td>...</td>\n",
       "      <td>...</td>\n",
       "      <td>...</td>\n",
       "      <td>...</td>\n",
       "      <td>...</td>\n",
       "      <td>...</td>\n",
       "      <td>...</td>\n",
       "      <td>...</td>\n",
       "      <td>...</td>\n",
       "      <td>...</td>\n",
       "      <td>...</td>\n",
       "      <td>...</td>\n",
       "      <td>...</td>\n",
       "      <td>...</td>\n",
       "      <td>...</td>\n",
       "      <td>...</td>\n",
       "      <td>...</td>\n",
       "      <td>...</td>\n",
       "      <td>...</td>\n",
       "      <td>...</td>\n",
       "    </tr>\n",
       "    <tr>\n",
       "      <th>5940</th>\n",
       "      <td>2243014</td>\n",
       "      <td>1</td>\n",
       "      <td>2021-02-20</td>\n",
       "      <td>1453427</td>\n",
       "      <td>50</td>\n",
       "      <td>423</td>\n",
       "      <td>1</td>\n",
       "      <td>USD</td>\n",
       "      <td>Male</td>\n",
       "      <td>Ralph Thompson</td>\n",
       "      <td>Lancaster</td>\n",
       "      <td>KS</td>\n",
       "      <td>Kansas</td>\n",
       "      <td>66041</td>\n",
       "      <td>United States</td>\n",
       "      <td>North America</td>\n",
       "      <td>1957-11-03</td>\n",
       "      <td>1.0000</td>\n",
       "      <td>2000.0</td>\n",
       "      <td>2008-03-06</td>\n",
       "    </tr>\n",
       "    <tr>\n",
       "      <th>5941</th>\n",
       "      <td>2243014</td>\n",
       "      <td>2</td>\n",
       "      <td>2021-02-20</td>\n",
       "      <td>1453427</td>\n",
       "      <td>50</td>\n",
       "      <td>1617</td>\n",
       "      <td>1</td>\n",
       "      <td>USD</td>\n",
       "      <td>Male</td>\n",
       "      <td>Ralph Thompson</td>\n",
       "      <td>Lancaster</td>\n",
       "      <td>KS</td>\n",
       "      <td>Kansas</td>\n",
       "      <td>66041</td>\n",
       "      <td>United States</td>\n",
       "      <td>North America</td>\n",
       "      <td>1957-11-03</td>\n",
       "      <td>1.0000</td>\n",
       "      <td>2000.0</td>\n",
       "      <td>2008-03-06</td>\n",
       "    </tr>\n",
       "    <tr>\n",
       "      <th>5942</th>\n",
       "      <td>2243014</td>\n",
       "      <td>3</td>\n",
       "      <td>2021-02-20</td>\n",
       "      <td>1453427</td>\n",
       "      <td>50</td>\n",
       "      <td>2506</td>\n",
       "      <td>4</td>\n",
       "      <td>USD</td>\n",
       "      <td>Male</td>\n",
       "      <td>Ralph Thompson</td>\n",
       "      <td>Lancaster</td>\n",
       "      <td>KS</td>\n",
       "      <td>Kansas</td>\n",
       "      <td>66041</td>\n",
       "      <td>United States</td>\n",
       "      <td>North America</td>\n",
       "      <td>1957-11-03</td>\n",
       "      <td>1.0000</td>\n",
       "      <td>2000.0</td>\n",
       "      <td>2008-03-06</td>\n",
       "    </tr>\n",
       "    <tr>\n",
       "      <th>5943</th>\n",
       "      <td>2243021</td>\n",
       "      <td>1</td>\n",
       "      <td>2021-02-20</td>\n",
       "      <td>1783631</td>\n",
       "      <td>55</td>\n",
       "      <td>1147</td>\n",
       "      <td>4</td>\n",
       "      <td>USD</td>\n",
       "      <td>Male</td>\n",
       "      <td>Louis Camacho</td>\n",
       "      <td>Las Vegas</td>\n",
       "      <td>NV</td>\n",
       "      <td>Nevada</td>\n",
       "      <td>89128</td>\n",
       "      <td>United States</td>\n",
       "      <td>North America</td>\n",
       "      <td>1947-12-13</td>\n",
       "      <td>1.0000</td>\n",
       "      <td>2000.0</td>\n",
       "      <td>2009-12-15</td>\n",
       "    </tr>\n",
       "    <tr>\n",
       "      <th>5944</th>\n",
       "      <td>2243021</td>\n",
       "      <td>2</td>\n",
       "      <td>2021-02-20</td>\n",
       "      <td>1783631</td>\n",
       "      <td>55</td>\n",
       "      <td>1531</td>\n",
       "      <td>4</td>\n",
       "      <td>USD</td>\n",
       "      <td>Male</td>\n",
       "      <td>Louis Camacho</td>\n",
       "      <td>Las Vegas</td>\n",
       "      <td>NV</td>\n",
       "      <td>Nevada</td>\n",
       "      <td>89128</td>\n",
       "      <td>United States</td>\n",
       "      <td>North America</td>\n",
       "      <td>1947-12-13</td>\n",
       "      <td>1.0000</td>\n",
       "      <td>2000.0</td>\n",
       "      <td>2009-12-15</td>\n",
       "    </tr>\n",
       "  </tbody>\n",
       "</table>\n",
       "<p>5945 rows × 20 columns</p>\n",
       "</div>"
      ],
      "text/plain": [
       "      Order_Number  Line_Item Order_Date  Customer_Key  Store_Key  \\\n",
       "0           366005          1 2016-01-01        844003         33   \n",
       "1           367006          1 2016-01-02        693285         18   \n",
       "2           367010          1 2016-01-02       1322959         66   \n",
       "3           367010          2 2016-01-02       1322959         66   \n",
       "4           369007          1 2016-01-04        571622         20   \n",
       "...            ...        ...        ...           ...        ...   \n",
       "5940       2243014          1 2021-02-20       1453427         50   \n",
       "5941       2243014          2 2021-02-20       1453427         50   \n",
       "5942       2243014          3 2021-02-20       1453427         50   \n",
       "5943       2243021          1 2021-02-20       1783631         55   \n",
       "5944       2243021          2 2021-02-20       1783631         55   \n",
       "\n",
       "      Product_Key  Quantity Currency_Code  Gender            Name  \\\n",
       "0             421         4           EUR    Male  Ouassim Heuver   \n",
       "1            2445         3           EUR  Female  Solaine Lanoie   \n",
       "2             917         1           USD    Male   Eric Williams   \n",
       "3              39         1           USD    Male   Eric Williams   \n",
       "4            2510         3           EUR    Male    Sven Schulze   \n",
       "...           ...       ...           ...     ...             ...   \n",
       "5940          423         1           USD    Male  Ralph Thompson   \n",
       "5941         1617         1           USD    Male  Ralph Thompson   \n",
       "5942         2506         4           USD    Male  Ralph Thompson   \n",
       "5943         1147         4           USD    Male   Louis Camacho   \n",
       "5944         1531         4           USD    Male   Louis Camacho   \n",
       "\n",
       "              City State_Code        State Zip_Code        Country  \\\n",
       "0       Leeuwarden         FR    Friesland  8916 CD    Netherlands   \n",
       "1         DZAOUDZI         MY      Mayotte    97610         France   \n",
       "2        Big Piney         WY      Wyoming    83113  United States   \n",
       "3        Big Piney         WY      Wyoming    83113  United States   \n",
       "4     Birkenwerder         BB  Brandenburg    16547        Germany   \n",
       "...            ...        ...          ...      ...            ...   \n",
       "5940     Lancaster         KS       Kansas    66041  United States   \n",
       "5941     Lancaster         KS       Kansas    66041  United States   \n",
       "5942     Lancaster         KS       Kansas    66041  United States   \n",
       "5943     Las Vegas         NV       Nevada    89128  United States   \n",
       "5944     Las Vegas         NV       Nevada    89128  United States   \n",
       "\n",
       "          Continent   Birthday  Exchange  Square_Meters  Open_Date  \n",
       "0            Europe 1995-06-22    0.9185         1540.0 2015-12-09  \n",
       "1            Europe 1978-11-20    0.9185          310.0 2012-08-08  \n",
       "2     North America 1959-11-05    1.0000          840.0 2014-01-01  \n",
       "3     North America 1959-11-05    1.0000          840.0 2014-01-01  \n",
       "4            Europe 1986-02-08    0.9176         1715.0 2012-12-15  \n",
       "...             ...        ...       ...            ...        ...  \n",
       "5940  North America 1957-11-03    1.0000         2000.0 2008-03-06  \n",
       "5941  North America 1957-11-03    1.0000         2000.0 2008-03-06  \n",
       "5942  North America 1957-11-03    1.0000         2000.0 2008-03-06  \n",
       "5943  North America 1947-12-13    1.0000         2000.0 2009-12-15  \n",
       "5944  North America 1947-12-13    1.0000         2000.0 2009-12-15  \n",
       "\n",
       "[5945 rows x 20 columns]"
      ]
     },
     "execution_count": 52,
     "metadata": {},
     "output_type": "execute_result"
    }
   ],
   "source": [
    "df_alldata"
   ]
  },
  {
   "cell_type": "code",
   "execution_count": 279,
   "metadata": {},
   "outputs": [
    {
     "name": "stdout",
     "output_type": "stream",
     "text": [
      "<class 'pandas.core.frame.DataFrame'>\n",
      "RangeIndex: 5945 entries, 0 to 5944\n",
      "Data columns (total 20 columns):\n",
      " #   Column         Non-Null Count  Dtype         \n",
      "---  ------         --------------  -----         \n",
      " 0   Order_Number   5945 non-null   int64         \n",
      " 1   Line_Item      5945 non-null   int64         \n",
      " 2   Order_Date     5945 non-null   datetime64[ns]\n",
      " 3   Customer_Key   5945 non-null   int64         \n",
      " 4   Store_Key      5945 non-null   int64         \n",
      " 5   Product_Key    5945 non-null   int64         \n",
      " 6   Quantity       5945 non-null   int64         \n",
      " 7   Currency_Code  5945 non-null   object        \n",
      " 8   Gender         5945 non-null   object        \n",
      " 9   Name           5945 non-null   object        \n",
      " 10  City           5945 non-null   object        \n",
      " 11  State_Code     5945 non-null   object        \n",
      " 12  State          5945 non-null   object        \n",
      " 13  Zip_Code       5945 non-null   object        \n",
      " 14  Country        5945 non-null   object        \n",
      " 15  Continent      5945 non-null   object        \n",
      " 16  Birthday       5945 non-null   datetime64[ns]\n",
      " 17  Exchange       5945 non-null   float64       \n",
      " 18  Square_Meters  5945 non-null   float64       \n",
      " 19  Open_Date      5945 non-null   datetime64[ns]\n",
      "dtypes: datetime64[ns](3), float64(2), int64(6), object(9)\n",
      "memory usage: 929.0+ KB\n"
     ]
    }
   ],
   "source": [
    "df_alldata.info()"
   ]
  },
  {
   "cell_type": "code",
   "execution_count": 191,
   "metadata": {},
   "outputs": [
    {
     "data": {
      "text/html": [
       "<div>\n",
       "<style scoped>\n",
       "    .dataframe tbody tr th:only-of-type {\n",
       "        vertical-align: middle;\n",
       "    }\n",
       "\n",
       "    .dataframe tbody tr th {\n",
       "        vertical-align: top;\n",
       "    }\n",
       "\n",
       "    .dataframe thead th {\n",
       "        text-align: right;\n",
       "    }\n",
       "</style>\n",
       "<table border=\"1\" class=\"dataframe\">\n",
       "  <thead>\n",
       "    <tr style=\"text-align: right;\">\n",
       "      <th></th>\n",
       "      <th>Order_Number</th>\n",
       "      <th>Line_Item</th>\n",
       "      <th>Order_Date</th>\n",
       "      <th>Customer_Key</th>\n",
       "      <th>Store_Key</th>\n",
       "      <th>Product_Key</th>\n",
       "      <th>Quantity</th>\n",
       "      <th>Currency_Code</th>\n",
       "      <th>Gender</th>\n",
       "      <th>Name</th>\n",
       "      <th>...</th>\n",
       "      <th>Category_x</th>\n",
       "      <th>Product_Name_y</th>\n",
       "      <th>Brand_y</th>\n",
       "      <th>Color_y</th>\n",
       "      <th>Unit_Cost_USD_y</th>\n",
       "      <th>Unit_Price_USD_y</th>\n",
       "      <th>SubcategoryKey_y</th>\n",
       "      <th>Subcategory_y</th>\n",
       "      <th>CategoryKey_y</th>\n",
       "      <th>Category_y</th>\n",
       "    </tr>\n",
       "  </thead>\n",
       "  <tbody>\n",
       "    <tr>\n",
       "      <th>0</th>\n",
       "      <td>366005</td>\n",
       "      <td>1</td>\n",
       "      <td>2016-01-01</td>\n",
       "      <td>844003</td>\n",
       "      <td>33</td>\n",
       "      <td>421</td>\n",
       "      <td>4</td>\n",
       "      <td>EUR</td>\n",
       "      <td>Male</td>\n",
       "      <td>Ouassim Heuver</td>\n",
       "      <td>...</td>\n",
       "      <td>Computers</td>\n",
       "      <td>Adventure Works Desktop PC3.0 MS300 Silver</td>\n",
       "      <td>Adventure Works</td>\n",
       "      <td>Silver</td>\n",
       "      <td>215.68</td>\n",
       "      <td>469.00</td>\n",
       "      <td>303</td>\n",
       "      <td>Desktops</td>\n",
       "      <td>3</td>\n",
       "      <td>Computers</td>\n",
       "    </tr>\n",
       "    <tr>\n",
       "      <th>1</th>\n",
       "      <td>367006</td>\n",
       "      <td>1</td>\n",
       "      <td>2016-01-02</td>\n",
       "      <td>693285</td>\n",
       "      <td>18</td>\n",
       "      <td>2445</td>\n",
       "      <td>3</td>\n",
       "      <td>EUR</td>\n",
       "      <td>Female</td>\n",
       "      <td>Solaine Lanoie</td>\n",
       "      <td>...</td>\n",
       "      <td>Home Appliances</td>\n",
       "      <td>Litware 80mm Dual Ball Bearing Case Fan E1001 ...</td>\n",
       "      <td>Litware</td>\n",
       "      <td>Green</td>\n",
       "      <td>2.54</td>\n",
       "      <td>4.99</td>\n",
       "      <td>808</td>\n",
       "      <td>Fans</td>\n",
       "      <td>8</td>\n",
       "      <td>Home Appliances</td>\n",
       "    </tr>\n",
       "    <tr>\n",
       "      <th>2</th>\n",
       "      <td>367010</td>\n",
       "      <td>1</td>\n",
       "      <td>2016-01-02</td>\n",
       "      <td>1322959</td>\n",
       "      <td>66</td>\n",
       "      <td>917</td>\n",
       "      <td>1</td>\n",
       "      <td>USD</td>\n",
       "      <td>Male</td>\n",
       "      <td>Eric Williams</td>\n",
       "      <td>...</td>\n",
       "      <td>Computers</td>\n",
       "      <td>SV 500GB USB 2.0 Portable External Hard Drive ...</td>\n",
       "      <td>Southridge Video</td>\n",
       "      <td>White</td>\n",
       "      <td>59.31</td>\n",
       "      <td>179.00</td>\n",
       "      <td>308</td>\n",
       "      <td>Computers Accessories</td>\n",
       "      <td>3</td>\n",
       "      <td>Computers</td>\n",
       "    </tr>\n",
       "    <tr>\n",
       "      <th>3</th>\n",
       "      <td>367010</td>\n",
       "      <td>2</td>\n",
       "      <td>2016-01-02</td>\n",
       "      <td>1322959</td>\n",
       "      <td>66</td>\n",
       "      <td>39</td>\n",
       "      <td>1</td>\n",
       "      <td>USD</td>\n",
       "      <td>Male</td>\n",
       "      <td>Eric Williams</td>\n",
       "      <td>...</td>\n",
       "      <td>Audio</td>\n",
       "      <td>Contoso 8GB Clock &amp; Radio MP3 Player X850 Green</td>\n",
       "      <td>Contoso</td>\n",
       "      <td>Green</td>\n",
       "      <td>99.14</td>\n",
       "      <td>299.23</td>\n",
       "      <td>101</td>\n",
       "      <td>MP4&amp;MP3</td>\n",
       "      <td>1</td>\n",
       "      <td>Audio</td>\n",
       "    </tr>\n",
       "    <tr>\n",
       "      <th>4</th>\n",
       "      <td>369007</td>\n",
       "      <td>1</td>\n",
       "      <td>2016-01-04</td>\n",
       "      <td>571622</td>\n",
       "      <td>20</td>\n",
       "      <td>2510</td>\n",
       "      <td>3</td>\n",
       "      <td>EUR</td>\n",
       "      <td>Male</td>\n",
       "      <td>Sven Schulze</td>\n",
       "      <td>...</td>\n",
       "      <td>Cell phones</td>\n",
       "      <td>Contoso Original K1m Li-Ion Standard Battery E...</td>\n",
       "      <td>Contoso</td>\n",
       "      <td>White</td>\n",
       "      <td>2.07</td>\n",
       "      <td>4.06</td>\n",
       "      <td>505</td>\n",
       "      <td>Cell phones Accessories</td>\n",
       "      <td>5</td>\n",
       "      <td>Cell phones</td>\n",
       "    </tr>\n",
       "  </tbody>\n",
       "</table>\n",
       "<p>5 rows × 38 columns</p>\n",
       "</div>"
      ],
      "text/plain": [
       "   Order_Number  Line_Item Order_Date  Customer_Key  Store_Key  Product_Key  \\\n",
       "0        366005          1 2016-01-01        844003         33          421   \n",
       "1        367006          1 2016-01-02        693285         18         2445   \n",
       "2        367010          1 2016-01-02       1322959         66          917   \n",
       "3        367010          2 2016-01-02       1322959         66           39   \n",
       "4        369007          1 2016-01-04        571622         20         2510   \n",
       "\n",
       "   Quantity Currency_Code  Gender            Name  ...       Category_x  \\\n",
       "0         4           EUR    Male  Ouassim Heuver  ...        Computers   \n",
       "1         3           EUR  Female  Solaine Lanoie  ...  Home Appliances   \n",
       "2         1           USD    Male   Eric Williams  ...        Computers   \n",
       "3         1           USD    Male   Eric Williams  ...            Audio   \n",
       "4         3           EUR    Male    Sven Schulze  ...      Cell phones   \n",
       "\n",
       "                                      Product_Name_y           Brand_y  \\\n",
       "0         Adventure Works Desktop PC3.0 MS300 Silver   Adventure Works   \n",
       "1  Litware 80mm Dual Ball Bearing Case Fan E1001 ...           Litware   \n",
       "2  SV 500GB USB 2.0 Portable External Hard Drive ...  Southridge Video   \n",
       "3    Contoso 8GB Clock & Radio MP3 Player X850 Green           Contoso   \n",
       "4  Contoso Original K1m Li-Ion Standard Battery E...           Contoso   \n",
       "\n",
       "  Color_y Unit_Cost_USD_y Unit_Price_USD_y SubcategoryKey_y  \\\n",
       "0  Silver          215.68           469.00              303   \n",
       "1   Green            2.54             4.99              808   \n",
       "2   White           59.31           179.00              308   \n",
       "3   Green           99.14           299.23              101   \n",
       "4   White            2.07             4.06              505   \n",
       "\n",
       "             Subcategory_y  CategoryKey_y       Category_y  \n",
       "0                 Desktops              3        Computers  \n",
       "1                     Fans              8  Home Appliances  \n",
       "2    Computers Accessories              3        Computers  \n",
       "3                  MP4&MP3              1            Audio  \n",
       "4  Cell phones Accessories              5      Cell phones  \n",
       "\n",
       "[5 rows x 38 columns]"
      ]
     },
     "execution_count": 191,
     "metadata": {},
     "output_type": "execute_result"
    }
   ],
   "source": [
    "df_alldata.head()"
   ]
  },
  {
   "cell_type": "code",
   "execution_count": 186,
   "metadata": {},
   "outputs": [
    {
     "data": {
      "text/plain": [
       "Order_Number        0\n",
       "Line_Item           0\n",
       "Order_Date          0\n",
       "Customer_Key        0\n",
       "Store_Key           0\n",
       "Product_Key         0\n",
       "Quantity            0\n",
       "Currency_Code       0\n",
       "Gender              0\n",
       "Name                0\n",
       "City                0\n",
       "State_Code          0\n",
       "State               0\n",
       "Zip_Code            0\n",
       "Country             0\n",
       "Continent           0\n",
       "Birthday            0\n",
       "Exchange            0\n",
       "Square_Meters       0\n",
       "Open_Date           0\n",
       "Product_Name_x      0\n",
       "Brand_x             0\n",
       "Color_x             0\n",
       "Unit_Cost_USD_x     0\n",
       "Unit_Price_USD_x    0\n",
       "SubcategoryKey_x    0\n",
       "Subcategory_x       0\n",
       "CategoryKey_x       0\n",
       "Category_x          0\n",
       "Product_Name_y      0\n",
       "Brand_y             0\n",
       "Color_y             0\n",
       "Unit_Cost_USD_y     0\n",
       "Unit_Price_USD_y    0\n",
       "SubcategoryKey_y    0\n",
       "Subcategory_y       0\n",
       "CategoryKey_y       0\n",
       "Category_y          0\n",
       "dtype: int64"
      ]
     },
     "execution_count": 186,
     "metadata": {},
     "output_type": "execute_result"
    }
   ],
   "source": [
    "df_alldata.isnull().sum()"
   ]
  },
  {
   "cell_type": "code",
   "execution_count": 280,
   "metadata": {},
   "outputs": [
    {
     "data": {
      "text/plain": [
       "Index(['Order_Number', 'Line_Item', 'Order_Date', 'Customer_Key', 'Store_Key',\n",
       "       'Product_Key', 'Quantity', 'Currency_Code', 'Gender', 'Name', 'City',\n",
       "       'State_Code', 'State', 'Zip_Code', 'Country', 'Continent', 'Birthday',\n",
       "       'Exchange', 'Square_Meters', 'Open_Date'],\n",
       "      dtype='object')"
      ]
     },
     "execution_count": 280,
     "metadata": {},
     "output_type": "execute_result"
    }
   ],
   "source": [
    "df_alldata.columns"
   ]
  },
  {
   "cell_type": "code",
   "execution_count": 281,
   "metadata": {},
   "outputs": [
    {
     "data": {
      "text/plain": [
       "Index(['Product_Key', 'Product_Name', 'Brand', 'Color', 'Unit_Cost_USD',\n",
       "       'Unit_Price_USD', 'SubcategoryKey', 'Subcategory', 'CategoryKey',\n",
       "       'Category'],\n",
       "      dtype='object')"
      ]
     },
     "execution_count": 281,
     "metadata": {},
     "output_type": "execute_result"
    }
   ],
   "source": [
    "df_Products.columns\n"
   ]
  },
  {
   "cell_type": "code",
   "execution_count": 53,
   "metadata": {},
   "outputs": [],
   "source": [
    "df_alldata = pd.merge(\n",
    "    df_alldata,\n",
    "    df_Products[['Product_Key', 'Product_Name', 'Brand', 'Color', 'Unit_Cost_USD', \n",
    "                'Unit_Price_USD', 'SubcategoryKey', 'Subcategory', 'CategoryKey', \n",
    "                'Category']],\n",
    "    on='Product_Key',\n",
    "    how='inner'\n",
    ")\n"
   ]
  },
  {
   "cell_type": "code",
   "execution_count": 193,
   "metadata": {},
   "outputs": [],
   "source": [
    "df_alldata = pd.merge(\n",
    "    df_alldata,\n",
    "    df_Products,\n",
    "    on='Product_Key',\n",
    "    how='inner'\n",
    ")\n",
    "\n",
    "# Drop duplicate columns from the merge (e.g., '_y' columns)\n",
    "columns_to_drop = [col for col in df_alldata.columns if col.endswith('_y')]\n",
    "df_alldata.drop(columns=columns_to_drop, inplace=True)"
   ]
  },
  {
   "cell_type": "code",
   "execution_count": 71,
   "metadata": {},
   "outputs": [
    {
     "name": "stdout",
     "output_type": "stream",
     "text": [
      "<class 'pandas.core.frame.DataFrame'>\n",
      "RangeIndex: 2517 entries, 0 to 2516\n",
      "Data columns (total 10 columns):\n",
      " #   Column          Non-Null Count  Dtype  \n",
      "---  ------          --------------  -----  \n",
      " 0   ProductKey      2517 non-null   int64  \n",
      " 1   Product_Name    2517 non-null   object \n",
      " 2   Brand           2517 non-null   object \n",
      " 3   Color           2517 non-null   object \n",
      " 4   Unit_Cost_USD   2517 non-null   float64\n",
      " 5   Unit_Price_USD  2517 non-null   float64\n",
      " 6   SubcategoryKey  2517 non-null   int64  \n",
      " 7   Subcategory     2517 non-null   object \n",
      " 8   CategoryKey     2517 non-null   int64  \n",
      " 9   Category        2517 non-null   object \n",
      "dtypes: float64(2), int64(3), object(5)\n",
      "memory usage: 196.8+ KB\n"
     ]
    }
   ],
   "source": [
    "df_Products.info()"
   ]
  },
  {
   "cell_type": "code",
   "execution_count": 184,
   "metadata": {},
   "outputs": [],
   "source": [
    "df_alldata = pd.merge(df_alldata, df_Products, on='Product_Key', how='inner')"
   ]
  },
  {
   "cell_type": "code",
   "execution_count": 54,
   "metadata": {},
   "outputs": [
    {
     "name": "stdout",
     "output_type": "stream",
     "text": [
      "<class 'pandas.core.frame.DataFrame'>\n",
      "RangeIndex: 5945 entries, 0 to 5944\n",
      "Data columns (total 29 columns):\n",
      " #   Column          Non-Null Count  Dtype         \n",
      "---  ------          --------------  -----         \n",
      " 0   Order_Number    5945 non-null   int64         \n",
      " 1   Line_Item       5945 non-null   int64         \n",
      " 2   Order_Date      5945 non-null   datetime64[ns]\n",
      " 3   Customer_Key    5945 non-null   int64         \n",
      " 4   Store_Key       5945 non-null   int64         \n",
      " 5   Product_Key     5945 non-null   int64         \n",
      " 6   Quantity        5945 non-null   int64         \n",
      " 7   Currency_Code   5945 non-null   object        \n",
      " 8   Gender          5945 non-null   object        \n",
      " 9   Name            5945 non-null   object        \n",
      " 10  City            5945 non-null   object        \n",
      " 11  State_Code      5945 non-null   object        \n",
      " 12  State           5945 non-null   object        \n",
      " 13  Zip_Code        5945 non-null   object        \n",
      " 14  Country         5945 non-null   object        \n",
      " 15  Continent       5945 non-null   object        \n",
      " 16  Birthday        5945 non-null   datetime64[ns]\n",
      " 17  Exchange        5945 non-null   float64       \n",
      " 18  Square_Meters   5945 non-null   float64       \n",
      " 19  Open_Date       5945 non-null   datetime64[ns]\n",
      " 20  Product_Name    5945 non-null   object        \n",
      " 21  Brand           5945 non-null   object        \n",
      " 22  Color           5945 non-null   object        \n",
      " 23  Unit_Cost_USD   5945 non-null   float64       \n",
      " 24  Unit_Price_USD  5945 non-null   float64       \n",
      " 25  SubcategoryKey  5945 non-null   int64         \n",
      " 26  Subcategory     5945 non-null   object        \n",
      " 27  CategoryKey     5945 non-null   int64         \n",
      " 28  Category        5945 non-null   object        \n",
      "dtypes: datetime64[ns](3), float64(4), int64(8), object(14)\n",
      "memory usage: 1.3+ MB\n"
     ]
    }
   ],
   "source": [
    "df_alldata.info()"
   ]
  },
  {
   "cell_type": "code",
   "execution_count": 55,
   "metadata": {},
   "outputs": [
    {
     "data": {
      "text/plain": [
       "Index(['Order_Number', 'Line_Item', 'Order_Date', 'Customer_Key', 'Store_Key',\n",
       "       'Product_Key', 'Quantity', 'Currency_Code', 'Gender', 'Name', 'City',\n",
       "       'State_Code', 'State', 'Zip_Code', 'Country', 'Continent', 'Birthday',\n",
       "       'Exchange', 'Square_Meters', 'Open_Date', 'Product_Name', 'Brand',\n",
       "       'Color', 'Unit_Cost_USD', 'Unit_Price_USD', 'SubcategoryKey',\n",
       "       'Subcategory', 'CategoryKey', 'Category'],\n",
       "      dtype='object')"
      ]
     },
     "execution_count": 55,
     "metadata": {},
     "output_type": "execute_result"
    }
   ],
   "source": [
    "df_alldata.columns"
   ]
  },
  {
   "cell_type": "code",
   "execution_count": null,
   "metadata": {},
   "outputs": [
    {
     "name": "stdout",
     "output_type": "stream",
     "text": [
      "Table created\n"
     ]
    }
   ],
   "source": [
    "mycursor.execute('''CREATE TABLE data_insights.Data_sparktable(\n",
    "    ID INT AUTO_INCREMENT PRIMARY KEY NOT NULL,\n",
    "    Order_Number INT NOT NULL,\n",
    "    Line_Item INT NOT NULL,\n",
    "    Order_Date TIME NOT NULL,\n",
    "    Customer_Key INT NOT NULL,\n",
    "    Store_Key INT NOT NULL,\n",
    "    Product_Key INT NOT NULL,\n",
    "    Quantity INT NOT NULL,\n",
    "    Currency_Code VARCHAR(55) NOT NULL,\n",
    "    Gender VARCHAR(55) NOT NULL,\n",
    "    Name VARCHAR(55) NOT NULL,\n",
    "    City VARCHAR(55) NOT NULL,\n",
    "    State_Code VARCHAR(55) NOT NULL,\n",
    "    State VARCHAR(55) NOT NULL,\n",
    "    Zip_Code VARCHAR(55) NOT NULL,\n",
    "    Country VARCHAR(55) NOT NULL,\n",
    "    Continent VARCHAR(55) NOT NULL,\n",
    "    Birthday TIME NOT NULL,\n",
    "    Exchange FLOAT NOT NULL,\n",
    "    Square_Meters FLOAT NOT NULL,\n",
    "    Open_Date TIME NOT NULL)''')\n",
    "print(\"Table created\")"
   ]
  },
  {
   "cell_type": "code",
   "execution_count": 288,
   "metadata": {},
   "outputs": [
    {
     "name": "stdout",
     "output_type": "stream",
     "text": [
      "Table created\n"
     ]
    }
   ],
   "source": [
    "mycursor.execute('''CREATE TABLE data_insights.alltable(\n",
    "    ID INT AUTO_INCREMENT PRIMARY KEY NOT NULL,\n",
    "    Order_Number INT NOT NULL,\n",
    "    Line_Item INT NOT NULL,\n",
    "    Order_Date TIME NOT NULL,\n",
    "    Customer_Key INT NOT NULL,\n",
    "    Store_Key INT NOT NULL,\n",
    "    Product_Key INT NOT NULL,\n",
    "    Quantity INT NOT NULL,\n",
    "    Currency_Code VARCHAR(55) NOT NULL,\n",
    "    Gender VARCHAR(55) NOT NULL,\n",
    "    Name VARCHAR(55) NOT NULL,\n",
    "    City VARCHAR(55) NOT NULL,\n",
    "    State_Code VARCHAR(55) NOT NULL,\n",
    "    State VARCHAR(55) NOT NULL,\n",
    "    Zip_Code VARCHAR(55) NOT NULL,\n",
    "    Country VARCHAR(55) NOT NULL,\n",
    "    Continent VARCHAR(55) NOT NULL,\n",
    "    Birthday TIME NOT NULL,\n",
    "    Exchange FLOAT NOT NULL,\n",
    "    Square_Meters FLOAT NOT NULL,\n",
    "    Open_Date TIME NOT NULL,\n",
    "    Product_Name VARCHAR(55) NOT NULL,\n",
    "    Brand VARCHAR(55) NOT NULL,\n",
    "    Color VARCHAR(55) NOT NULL,\n",
    "    Unit_Cost_USD FLOAT NOT NULL,\n",
    "    Unit_Price_USD FLOAT NOT NULL,\n",
    "    SubcategoryKey INT NOT NULL,\n",
    "    Subcategory VARCHAR(55) NOT NULL,\n",
    "    CategoryKey INT NOT NULL,\n",
    "    Category VARCHAR(55) NOT NULL)''')\n",
    "print(\"Table created\")"
   ]
  },
  {
   "cell_type": "code",
   "execution_count": 289,
   "metadata": {},
   "outputs": [
    {
     "name": "stdout",
     "output_type": "stream",
     "text": [
      "Table updated\n"
     ]
    }
   ],
   "source": [
    "insert_all = \"\"\"\n",
    "INSERT INTO alltable(\n",
    "    Order_Number,\n",
    "    Line_Item,\n",
    "    Order_Date,\n",
    "    Customer_Key,\n",
    "    Store_Key,\n",
    "    Product_Key,\n",
    "    Quantity,\n",
    "    Currency_Code,\n",
    "    Gender,\n",
    "    Name,\n",
    "    City,\n",
    "    State_Code,\n",
    "    State,\n",
    "    Zip_Code,\n",
    "    Country,\n",
    "    Continent,\n",
    "    Birthday,\n",
    "    Exchange,\n",
    "    Square_Meters,\n",
    "    Open_Date,\n",
    "    Product_Name,\n",
    "    Brand,\n",
    "    Color,\n",
    "    Unit_Cost_USD,\n",
    "    Unit_Price_USD,\n",
    "    SubcategoryKey,\n",
    "    Subcategory,\n",
    "    CategoryKey,\n",
    "    Category\n",
    ")\n",
    "VALUES (%s,%s,%s,%s,%s,%s,%s,%s,%s,%s,%s,%s,%s,%s,%s,%s,%s,%s,%s,%s,%s,%s,%s,%s,%s,%s,%s,%s,%s);\n",
    "\"\"\"\n",
    "# convert the dataframe to a list of lists\n",
    "output = df_alldata.values.tolist()\n",
    "\n",
    "#execute the query with the data\n",
    "mycursor.executemany(insert_all, output)\n",
    "\n",
    "#commit the changes\n",
    "mydb.commit()\n",
    "\n",
    "print(\"Table updated\")\n"
   ]
  },
  {
   "cell_type": "code",
   "execution_count": 77,
   "metadata": {},
   "outputs": [
    {
     "name": "stdout",
     "output_type": "stream",
     "text": [
      "Table created\n"
     ]
    }
   ],
   "source": [
    "mycursor.execute('''CREATE TABLE data_insights.Data_mergedtable(\n",
    "    ID INT AUTO_INCREMENT PRIMARY KEY NOT NULL,\n",
    "    Order_Number INT NOT NULL,\n",
    "    Line_Item INT NOT NULL,\n",
    "    Order_Date TIME NOT NULL,\n",
    "    Customer_Key INT NOT NULL,\n",
    "    Store_Key INT NOT NULL,\n",
    "    Product_Key INT NOT NULL,\n",
    "    Quantity INT NOT NULL,\n",
    "    Currency_Code VARCHAR(55) NOT NULL,\n",
    "    Gender VARCHAR(55) NOT NULL,\n",
    "    Name VARCHAR(55) NOT NULL,\n",
    "    City VARCHAR(55) NOT NULL,\n",
    "    State_Code VARCHAR(55) NOT NULL,\n",
    "    State VARCHAR(55) NOT NULL,\n",
    "    Zip_Code VARCHAR(55) NOT NULL,\n",
    "    Country VARCHAR(55) NOT NULL,\n",
    "    Continent VARCHAR(55) NOT NULL,\n",
    "    Birthday TIME NOT NULL,\n",
    "    Exchange FLOAT NOT NULL,\n",
    "    Square_Meters FLOAT NOT NULL,\n",
    "    Open_Date TIME NOT NULL,\n",
    "    Product_Name VARCHAR(55) NOT NULL,\n",
    "    Brand VARCHAR(55) NOT NULL,\n",
    "    Color VARCHAR(55) NOT NULL,\n",
    "    Unit_Cost_USD FLOAT NOT NULL,\n",
    "    Unit_Price_USD FLOAT NOT NULL,\n",
    "    SubcategoryKey INT NOT NULL,\n",
    "    Subcategory VARCHAR(55) NOT NULL,\n",
    "    CategoryKey INT NOT NULL,\n",
    "    Category VARCHAR(55) NOT NULL)''')\n",
    "print(\"Table created\")"
   ]
  },
  {
   "cell_type": "code",
   "execution_count": 290,
   "metadata": {},
   "outputs": [
    {
     "data": {
      "text/plain": [
       "Index(['Order_Number', 'Line_Item', 'Order_Date', 'Customer_Key', 'Store_Key',\n",
       "       'Product_Key', 'Quantity', 'Currency_Code', 'Gender', 'Name', 'City',\n",
       "       'State_Code', 'State', 'Zip_Code', 'Country', 'Continent', 'Birthday',\n",
       "       'Exchange', 'Square_Meters', 'Open_Date', 'Product_Name', 'Brand',\n",
       "       'Color', 'Unit_Cost_USD', 'Unit_Price_USD', 'SubcategoryKey',\n",
       "       'Subcategory', 'CategoryKey', 'Category'],\n",
       "      dtype='object')"
      ]
     },
     "execution_count": 290,
     "metadata": {},
     "output_type": "execute_result"
    }
   ],
   "source": [
    "df_alldata.columns"
   ]
  },
  {
   "cell_type": "code",
   "execution_count": 82,
   "metadata": {},
   "outputs": [
    {
     "name": "stdout",
     "output_type": "stream",
     "text": [
      "Table updated\n"
     ]
    }
   ],
   "source": [
    "insert_all = \"\"\"\n",
    "INSERT INTO Data_mergedtable(\n",
    "    Order_Number,\n",
    "    Line_Item,\n",
    "    Order_Date,\n",
    "    Customer_Key,\n",
    "    Store_Key,\n",
    "    Product_Key,\n",
    "    Quantity,\n",
    "    Currency_Code,\n",
    "    Gender,\n",
    "    Name,\n",
    "    City,\n",
    "    State_Code,\n",
    "    State,\n",
    "    Zip_Code,\n",
    "    Country,\n",
    "    Continent,\n",
    "    Birthday,\n",
    "    Exchange,\n",
    "    Square_Meters,\n",
    "    Open_Date,\n",
    "    Product_Name,\n",
    "    Brand,\n",
    "    Color,\n",
    "    Unit_Cost_USD,\n",
    "    Unit_Price_USD,\n",
    "    SubcategoryKey,\n",
    "    Subcategory,\n",
    "    CategoryKey,\n",
    "    Category\n",
    ")\n",
    "VALUES (%s,%s,%s,%s,%s,%s,%s,%s,%s,%s,%s,%s,%s,%s,%s,%s,%s,%s,%s,%s,%s,%s,%s,%s,%s,%s,%s,%s,%s);\n",
    "\"\"\"\n",
    "# convert the dataframe to a list of lists\n",
    "output = df_alldata.values.tolist()\n",
    "\n",
    "#execute the query with the data\n",
    "mycursor.executemany(insert_all, output)\n",
    "\n",
    "#commit the changes\n",
    "mydb.commit()\n",
    "\n",
    "print(\"Table updated\")\n"
   ]
  },
  {
   "cell_type": "code",
   "execution_count": 78,
   "metadata": {},
   "outputs": [
    {
     "ename": "ProgrammingError",
     "evalue": "1064 (42000): You have an error in your SQL syntax; check the manual that corresponds to your MariaDB server version for the right syntax to use near ''\n)\nVALUES (366005,1,'2016-01-01 00:00:00',844003,33,421,4,'EUR','Male','Ouas...' at line 30",
     "output_type": "error",
     "traceback": [
      "\u001b[1;31m---------------------------------------------------------------------------\u001b[0m",
      "\u001b[1;31mMySQLInterfaceError\u001b[0m                       Traceback (most recent call last)",
      "File \u001b[1;32mc:\\Users\\rakes\\AppData\\Local\\Programs\\Python\\Python312\\Lib\\site-packages\\mysql\\connector\\connection_cext.py:697\u001b[0m, in \u001b[0;36mCMySQLConnection.cmd_query\u001b[1;34m(self, query, raw, buffered, raw_as_string)\u001b[0m\n\u001b[0;32m    696\u001b[0m         query \u001b[38;5;241m=\u001b[39m query\u001b[38;5;241m.\u001b[39mencode(\u001b[38;5;124m\"\u001b[39m\u001b[38;5;124mutf-8\u001b[39m\u001b[38;5;124m\"\u001b[39m)\n\u001b[1;32m--> 697\u001b[0m     \u001b[38;5;28;43mself\u001b[39;49m\u001b[38;5;241;43m.\u001b[39;49m\u001b[43m_cmysql\u001b[49m\u001b[38;5;241;43m.\u001b[39;49m\u001b[43mquery\u001b[49m\u001b[43m(\u001b[49m\n\u001b[0;32m    698\u001b[0m \u001b[43m        \u001b[49m\u001b[43mquery\u001b[49m\u001b[43m,\u001b[49m\n\u001b[0;32m    699\u001b[0m \u001b[43m        \u001b[49m\u001b[43mraw\u001b[49m\u001b[38;5;241;43m=\u001b[39;49m\u001b[43mraw\u001b[49m\u001b[43m,\u001b[49m\n\u001b[0;32m    700\u001b[0m \u001b[43m        \u001b[49m\u001b[43mbuffered\u001b[49m\u001b[38;5;241;43m=\u001b[39;49m\u001b[43mbuffered\u001b[49m\u001b[43m,\u001b[49m\n\u001b[0;32m    701\u001b[0m \u001b[43m        \u001b[49m\u001b[43mraw_as_string\u001b[49m\u001b[38;5;241;43m=\u001b[39;49m\u001b[43mraw_as_string\u001b[49m\u001b[43m,\u001b[49m\n\u001b[0;32m    702\u001b[0m \u001b[43m        \u001b[49m\u001b[43mquery_attrs\u001b[49m\u001b[38;5;241;43m=\u001b[39;49m\u001b[38;5;28;43mself\u001b[39;49m\u001b[38;5;241;43m.\u001b[39;49m\u001b[43mquery_attrs\u001b[49m\u001b[43m,\u001b[49m\n\u001b[0;32m    703\u001b[0m \u001b[43m    \u001b[49m\u001b[43m)\u001b[49m\n\u001b[0;32m    704\u001b[0m \u001b[38;5;28;01mexcept\u001b[39;00m MySQLInterfaceError \u001b[38;5;28;01mas\u001b[39;00m err:\n",
      "\u001b[1;31mMySQLInterfaceError\u001b[0m: You have an error in your SQL syntax; check the manual that corresponds to your MariaDB server version for the right syntax to use near ''\n)\nVALUES (366005,1,'2016-01-01 00:00:00',844003,33,421,4,'EUR','Male','Ouas...' at line 30",
      "\nThe above exception was the direct cause of the following exception:\n",
      "\u001b[1;31mProgrammingError\u001b[0m                          Traceback (most recent call last)",
      "Cell \u001b[1;32mIn[78], line 39\u001b[0m\n\u001b[0;32m     36\u001b[0m output \u001b[38;5;241m=\u001b[39m df_alldata\u001b[38;5;241m.\u001b[39mvalues\u001b[38;5;241m.\u001b[39mtolist()\n\u001b[0;32m     38\u001b[0m \u001b[38;5;66;03m#execute the query with the data\u001b[39;00m\n\u001b[1;32m---> 39\u001b[0m \u001b[43mmycursor\u001b[49m\u001b[38;5;241;43m.\u001b[39;49m\u001b[43mexecutemany\u001b[49m\u001b[43m(\u001b[49m\u001b[43minsert_all\u001b[49m\u001b[43m,\u001b[49m\u001b[43m \u001b[49m\u001b[43moutput\u001b[49m\u001b[43m)\u001b[49m\n\u001b[0;32m     41\u001b[0m \u001b[38;5;66;03m#commit the changes\u001b[39;00m\n\u001b[0;32m     42\u001b[0m mydb\u001b[38;5;241m.\u001b[39mcommit()\n",
      "File \u001b[1;32mc:\\Users\\rakes\\AppData\\Local\\Programs\\Python\\Python312\\Lib\\site-packages\\mysql\\connector\\cursor_cext.py:499\u001b[0m, in \u001b[0;36mCMySQLCursor.executemany\u001b[1;34m(self, operation, seq_params)\u001b[0m\n\u001b[0;32m    497\u001b[0m     \u001b[38;5;28;01mif\u001b[39;00m stmt \u001b[38;5;129;01mis\u001b[39;00m \u001b[38;5;129;01mnot\u001b[39;00m \u001b[38;5;28;01mNone\u001b[39;00m:\n\u001b[0;32m    498\u001b[0m         \u001b[38;5;28mself\u001b[39m\u001b[38;5;241m.\u001b[39m_executed \u001b[38;5;241m=\u001b[39m stmt\n\u001b[1;32m--> 499\u001b[0m         \u001b[38;5;28;01mreturn\u001b[39;00m \u001b[38;5;28;43mself\u001b[39;49m\u001b[38;5;241;43m.\u001b[39;49m\u001b[43mexecute\u001b[49m\u001b[43m(\u001b[49m\u001b[43mstmt\u001b[49m\u001b[43m)\u001b[49m\n\u001b[0;32m    501\u001b[0m rowcnt \u001b[38;5;241m=\u001b[39m \u001b[38;5;241m0\u001b[39m\n\u001b[0;32m    502\u001b[0m \u001b[38;5;28;01mtry\u001b[39;00m:\n\u001b[0;32m    503\u001b[0m     \u001b[38;5;66;03m# When processing read ops (e.g., SELECT), rowcnt is updated\u001b[39;00m\n\u001b[0;32m    504\u001b[0m     \u001b[38;5;66;03m# based on self._rowcount. For write ops (e.g., INSERT) is\u001b[39;00m\n\u001b[0;32m    505\u001b[0m     \u001b[38;5;66;03m# updated based on self._affected_rows.\u001b[39;00m\n\u001b[0;32m    506\u001b[0m     \u001b[38;5;66;03m# The variable self._description is None for write ops, that's\u001b[39;00m\n\u001b[0;32m    507\u001b[0m     \u001b[38;5;66;03m# why we use it as indicator for updating rowcnt.\u001b[39;00m\n",
      "File \u001b[1;32mc:\\Users\\rakes\\AppData\\Local\\Programs\\Python\\Python312\\Lib\\site-packages\\mysql\\connector\\cursor_cext.py:372\u001b[0m, in \u001b[0;36mCMySQLCursor.execute\u001b[1;34m(self, operation, params, multi)\u001b[0m\n\u001b[0;32m    367\u001b[0m             \u001b[38;5;28;01mraise\u001b[39;00m ProgrammingError(\n\u001b[0;32m    368\u001b[0m                 \u001b[38;5;124m\"\u001b[39m\u001b[38;5;124mNot all parameters were used in the SQL statement\u001b[39m\u001b[38;5;124m\"\u001b[39m\n\u001b[0;32m    369\u001b[0m             )\n\u001b[0;32m    371\u001b[0m \u001b[38;5;28;01mtry\u001b[39;00m:\n\u001b[1;32m--> 372\u001b[0m     result \u001b[38;5;241m=\u001b[39m \u001b[38;5;28;43mself\u001b[39;49m\u001b[38;5;241;43m.\u001b[39;49m\u001b[43m_cnx\u001b[49m\u001b[38;5;241;43m.\u001b[39;49m\u001b[43mcmd_query\u001b[49m\u001b[43m(\u001b[49m\n\u001b[0;32m    373\u001b[0m \u001b[43m        \u001b[49m\u001b[43mstmt\u001b[49m\u001b[43m,\u001b[49m\n\u001b[0;32m    374\u001b[0m \u001b[43m        \u001b[49m\u001b[43mraw\u001b[49m\u001b[38;5;241;43m=\u001b[39;49m\u001b[38;5;28;43mself\u001b[39;49m\u001b[38;5;241;43m.\u001b[39;49m\u001b[43m_raw\u001b[49m\u001b[43m,\u001b[49m\n\u001b[0;32m    375\u001b[0m \u001b[43m        \u001b[49m\u001b[43mbuffered\u001b[49m\u001b[38;5;241;43m=\u001b[39;49m\u001b[38;5;28;43mself\u001b[39;49m\u001b[38;5;241;43m.\u001b[39;49m\u001b[43m_buffered\u001b[49m\u001b[43m,\u001b[49m\n\u001b[0;32m    376\u001b[0m \u001b[43m        \u001b[49m\u001b[43mraw_as_string\u001b[49m\u001b[38;5;241;43m=\u001b[39;49m\u001b[38;5;28;43mself\u001b[39;49m\u001b[38;5;241;43m.\u001b[39;49m\u001b[43m_raw_as_string\u001b[49m\u001b[43m,\u001b[49m\n\u001b[0;32m    377\u001b[0m \u001b[43m    \u001b[49m\u001b[43m)\u001b[49m\n\u001b[0;32m    378\u001b[0m \u001b[38;5;28;01mexcept\u001b[39;00m MySQLInterfaceError \u001b[38;5;28;01mas\u001b[39;00m err:\n\u001b[0;32m    379\u001b[0m     \u001b[38;5;28;01mraise\u001b[39;00m get_mysql_exception(\n\u001b[0;32m    380\u001b[0m         msg\u001b[38;5;241m=\u001b[39merr\u001b[38;5;241m.\u001b[39mmsg, errno\u001b[38;5;241m=\u001b[39merr\u001b[38;5;241m.\u001b[39merrno, sqlstate\u001b[38;5;241m=\u001b[39merr\u001b[38;5;241m.\u001b[39msqlstate\n\u001b[0;32m    381\u001b[0m     ) \u001b[38;5;28;01mfrom\u001b[39;00m \u001b[38;5;21;01merr\u001b[39;00m\n",
      "File \u001b[1;32mc:\\Users\\rakes\\AppData\\Local\\Programs\\Python\\Python312\\Lib\\site-packages\\mysql\\connector\\opentelemetry\\context_propagation.py:102\u001b[0m, in \u001b[0;36mwith_context_propagation.<locals>.wrapper\u001b[1;34m(cnx, *args, **kwargs)\u001b[0m\n\u001b[0;32m    100\u001b[0m \u001b[38;5;250m\u001b[39m\u001b[38;5;124;03m\"\"\"Context propagation decorator.\"\"\"\u001b[39;00m\n\u001b[0;32m    101\u001b[0m \u001b[38;5;28;01mif\u001b[39;00m \u001b[38;5;129;01mnot\u001b[39;00m OTEL_ENABLED \u001b[38;5;129;01mor\u001b[39;00m \u001b[38;5;129;01mnot\u001b[39;00m cnx\u001b[38;5;241m.\u001b[39motel_context_propagation:\n\u001b[1;32m--> 102\u001b[0m     \u001b[38;5;28;01mreturn\u001b[39;00m \u001b[43mmethod\u001b[49m\u001b[43m(\u001b[49m\u001b[43mcnx\u001b[49m\u001b[43m,\u001b[49m\u001b[43m \u001b[49m\u001b[38;5;241;43m*\u001b[39;49m\u001b[43margs\u001b[49m\u001b[43m,\u001b[49m\u001b[43m \u001b[49m\u001b[38;5;241;43m*\u001b[39;49m\u001b[38;5;241;43m*\u001b[39;49m\u001b[43mkwargs\u001b[49m\u001b[43m)\u001b[49m\n\u001b[0;32m    104\u001b[0m current_span \u001b[38;5;241m=\u001b[39m trace\u001b[38;5;241m.\u001b[39mget_current_span()\n\u001b[0;32m    105\u001b[0m tp_header \u001b[38;5;241m=\u001b[39m \u001b[38;5;28;01mNone\u001b[39;00m\n",
      "File \u001b[1;32mc:\\Users\\rakes\\AppData\\Local\\Programs\\Python\\Python312\\Lib\\site-packages\\mysql\\connector\\connection_cext.py:705\u001b[0m, in \u001b[0;36mCMySQLConnection.cmd_query\u001b[1;34m(self, query, raw, buffered, raw_as_string)\u001b[0m\n\u001b[0;32m    697\u001b[0m     \u001b[38;5;28mself\u001b[39m\u001b[38;5;241m.\u001b[39m_cmysql\u001b[38;5;241m.\u001b[39mquery(\n\u001b[0;32m    698\u001b[0m         query,\n\u001b[0;32m    699\u001b[0m         raw\u001b[38;5;241m=\u001b[39mraw,\n\u001b[1;32m   (...)\u001b[0m\n\u001b[0;32m    702\u001b[0m         query_attrs\u001b[38;5;241m=\u001b[39m\u001b[38;5;28mself\u001b[39m\u001b[38;5;241m.\u001b[39mquery_attrs,\n\u001b[0;32m    703\u001b[0m     )\n\u001b[0;32m    704\u001b[0m \u001b[38;5;28;01mexcept\u001b[39;00m MySQLInterfaceError \u001b[38;5;28;01mas\u001b[39;00m err:\n\u001b[1;32m--> 705\u001b[0m     \u001b[38;5;28;01mraise\u001b[39;00m get_mysql_exception(\n\u001b[0;32m    706\u001b[0m         err\u001b[38;5;241m.\u001b[39merrno, msg\u001b[38;5;241m=\u001b[39merr\u001b[38;5;241m.\u001b[39mmsg, sqlstate\u001b[38;5;241m=\u001b[39merr\u001b[38;5;241m.\u001b[39msqlstate\n\u001b[0;32m    707\u001b[0m     ) \u001b[38;5;28;01mfrom\u001b[39;00m \u001b[38;5;21;01merr\u001b[39;00m\n\u001b[0;32m    708\u001b[0m \u001b[38;5;28;01mexcept\u001b[39;00m \u001b[38;5;167;01mAttributeError\u001b[39;00m \u001b[38;5;28;01mas\u001b[39;00m err:\n\u001b[0;32m    709\u001b[0m     addr \u001b[38;5;241m=\u001b[39m (\n\u001b[0;32m    710\u001b[0m         \u001b[38;5;28mself\u001b[39m\u001b[38;5;241m.\u001b[39m_unix_socket \u001b[38;5;28;01mif\u001b[39;00m \u001b[38;5;28mself\u001b[39m\u001b[38;5;241m.\u001b[39m_unix_socket \u001b[38;5;28;01melse\u001b[39;00m \u001b[38;5;124mf\u001b[39m\u001b[38;5;124m\"\u001b[39m\u001b[38;5;132;01m{\u001b[39;00m\u001b[38;5;28mself\u001b[39m\u001b[38;5;241m.\u001b[39m_host\u001b[38;5;132;01m}\u001b[39;00m\u001b[38;5;124m:\u001b[39m\u001b[38;5;132;01m{\u001b[39;00m\u001b[38;5;28mself\u001b[39m\u001b[38;5;241m.\u001b[39m_port\u001b[38;5;132;01m}\u001b[39;00m\u001b[38;5;124m\"\u001b[39m\n\u001b[0;32m    711\u001b[0m     )\n",
      "\u001b[1;31mProgrammingError\u001b[0m: 1064 (42000): You have an error in your SQL syntax; check the manual that corresponds to your MariaDB server version for the right syntax to use near ''\n)\nVALUES (366005,1,'2016-01-01 00:00:00',844003,33,421,4,'EUR','Male','Ouas...' at line 30"
     ]
    }
   ],
   "source": [
    "insert_all = \"\"\"\n",
    "INSERT INTO Data_sparktable(\n",
    "    Order_Number,\n",
    "    Line_Item,\n",
    "    Order_Date,\n",
    "    Customer_Key,\n",
    "    Store_Key,\n",
    "    Product_Key,\n",
    "    Quantity,\n",
    "    Currency_Code,\n",
    "    Gender,\n",
    "    Name,\n",
    "    City,\n",
    "    State_Code,\n",
    "    State,\n",
    "    Zip_Code,\n",
    "    Country,\n",
    "    ContinenT,\n",
    "    Birthday,\n",
    "    Exchange,\n",
    "    Square_Meters,\n",
    "    Open_Date\n",
    ")\n",
    "VALUES (%s,%s,%s,%s,%s,%s,%s,%s,%s,%s,%s,%s,%s,%s,%s,%s,%s,%s,%s,%s);\n",
    "\"\"\"\n",
    "# convert the dataframe to a list of lists\n",
    "output = df_alldata.values.tolist()\n",
    "\n",
    "#execute the query with the data\n",
    "mycursor.executemany(insert_all, output)\n",
    "\n",
    "#commit the changes\n",
    "mydb.commit()\n",
    "\n",
    "print(\"Table updated\")\n"
   ]
  },
  {
   "cell_type": "code",
   "execution_count": 289,
   "metadata": {},
   "outputs": [
    {
     "name": "stdout",
     "output_type": "stream",
     "text": [
      "<class 'pandas.core.frame.DataFrame'>\n",
      "RangeIndex: 5945 entries, 0 to 5944\n",
      "Data columns (total 19 columns):\n",
      " #   Column         Non-Null Count  Dtype         \n",
      "---  ------         --------------  -----         \n",
      " 0   Order_Number   5945 non-null   int64         \n",
      " 1   Line_Item      5945 non-null   int64         \n",
      " 2   Order_Date     5945 non-null   datetime64[ns]\n",
      " 3   Customer_Key   5945 non-null   int64         \n",
      " 4   Store_Key      5945 non-null   int64         \n",
      " 5   Product_Key    5945 non-null   int64         \n",
      " 6   Quantity       5945 non-null   int64         \n",
      " 7   Currency_Code  5945 non-null   object        \n",
      " 8   Gender         5945 non-null   object        \n",
      " 9   Name           5945 non-null   object        \n",
      " 10  City           5945 non-null   object        \n",
      " 11  State_Code     5945 non-null   object        \n",
      " 12  State          5945 non-null   object        \n",
      " 13  Zip_Code       5945 non-null   object        \n",
      " 14  Country        5945 non-null   object        \n",
      " 15  Continent      5945 non-null   object        \n",
      " 16  Birthday       5945 non-null   datetime64[ns]\n",
      " 17  Square_Meters  5945 non-null   float64       \n",
      " 18  Open_Date      5945 non-null   datetime64[ns]\n",
      "dtypes: datetime64[ns](3), float64(1), int64(6), object(9)\n",
      "memory usage: 882.6+ KB\n"
     ]
    }
   ],
   "source": [
    "df_alldata.info()"
   ]
  },
  {
   "cell_type": "code",
   "execution_count": 287,
   "metadata": {},
   "outputs": [
    {
     "ename": "InterfaceError",
     "evalue": "Failed executing the operation; Not enough parameters for the SQL statement",
     "output_type": "error",
     "traceback": [
      "\u001b[1;31m---------------------------------------------------------------------------\u001b[0m",
      "\u001b[1;31mInterfaceError\u001b[0m                            Traceback (most recent call last)",
      "Cell \u001b[1;32mIn[287], line 31\u001b[0m\n\u001b[0;32m     28\u001b[0m output \u001b[38;5;241m=\u001b[39m df_alldata\u001b[38;5;241m.\u001b[39mvalues\u001b[38;5;241m.\u001b[39mtolist()\n\u001b[0;32m     30\u001b[0m \u001b[38;5;66;03m# Execute the query with the data\u001b[39;00m\n\u001b[1;32m---> 31\u001b[0m \u001b[43mmycursor\u001b[49m\u001b[38;5;241;43m.\u001b[39;49m\u001b[43mexecutemany\u001b[49m\u001b[43m(\u001b[49m\u001b[43minsert_all\u001b[49m\u001b[43m,\u001b[49m\u001b[43m \u001b[49m\u001b[43moutput\u001b[49m\u001b[43m)\u001b[49m\n\u001b[0;32m     33\u001b[0m \u001b[38;5;66;03m# Commit the changes\u001b[39;00m\n\u001b[0;32m     34\u001b[0m mydb\u001b[38;5;241m.\u001b[39mcommit()\n",
      "File \u001b[1;32mc:\\Users\\rakes\\AppData\\Local\\Programs\\Python\\Python312\\Lib\\site-packages\\mysql\\connector\\cursor_cext.py:496\u001b[0m, in \u001b[0;36mCMySQLCursor.executemany\u001b[1;34m(self, operation, seq_params)\u001b[0m\n\u001b[0;32m    494\u001b[0m     \u001b[38;5;28mself\u001b[39m\u001b[38;5;241m.\u001b[39m_rowcount \u001b[38;5;241m=\u001b[39m \u001b[38;5;241m0\u001b[39m\n\u001b[0;32m    495\u001b[0m     \u001b[38;5;28;01mreturn\u001b[39;00m \u001b[38;5;28;01mNone\u001b[39;00m\n\u001b[1;32m--> 496\u001b[0m stmt \u001b[38;5;241m=\u001b[39m \u001b[38;5;28;43mself\u001b[39;49m\u001b[38;5;241;43m.\u001b[39;49m\u001b[43m_batch_insert\u001b[49m\u001b[43m(\u001b[49m\u001b[43moperation\u001b[49m\u001b[43m,\u001b[49m\u001b[43m \u001b[49m\u001b[43mseq_params\u001b[49m\u001b[43m)\u001b[49m\n\u001b[0;32m    497\u001b[0m \u001b[38;5;28;01mif\u001b[39;00m stmt \u001b[38;5;129;01mis\u001b[39;00m \u001b[38;5;129;01mnot\u001b[39;00m \u001b[38;5;28;01mNone\u001b[39;00m:\n\u001b[0;32m    498\u001b[0m     \u001b[38;5;28mself\u001b[39m\u001b[38;5;241m.\u001b[39m_executed \u001b[38;5;241m=\u001b[39m stmt\n",
      "File \u001b[1;32mc:\\Users\\rakes\\AppData\\Local\\Programs\\Python\\Python312\\Lib\\site-packages\\mysql\\connector\\cursor_cext.py:450\u001b[0m, in \u001b[0;36mCMySQLCursor._batch_insert\u001b[1;34m(self, operation, seq_params)\u001b[0m\n\u001b[0;32m    448\u001b[0m     \u001b[38;5;28;01mraise\u001b[39;00m ProgrammingError(\u001b[38;5;28mstr\u001b[39m(err)) \u001b[38;5;28;01mfrom\u001b[39;00m \u001b[38;5;21;01merr\u001b[39;00m\n\u001b[0;32m    449\u001b[0m \u001b[38;5;28;01mexcept\u001b[39;00m \u001b[38;5;167;01mException\u001b[39;00m \u001b[38;5;28;01mas\u001b[39;00m err:\n\u001b[1;32m--> 450\u001b[0m     \u001b[38;5;28;01mraise\u001b[39;00m InterfaceError(\u001b[38;5;124mf\u001b[39m\u001b[38;5;124m\"\u001b[39m\u001b[38;5;124mFailed executing the operation; \u001b[39m\u001b[38;5;132;01m{\u001b[39;00merr\u001b[38;5;132;01m}\u001b[39;00m\u001b[38;5;124m\"\u001b[39m) \u001b[38;5;28;01mfrom\u001b[39;00m \u001b[38;5;28;01mNone\u001b[39;00m\n",
      "\u001b[1;31mInterfaceError\u001b[0m: Failed executing the operation; Not enough parameters for the SQL statement"
     ]
    }
   ],
   "source": [
    "insert_all = \"\"\"\n",
    "INSERT INTO Data_sparktable(\n",
    "    Order_Number,\n",
    "    Line_Item,\n",
    "    Order_Date,\n",
    "    Customer_Key,\n",
    "    Store_Key,\n",
    "    Product_Key,\n",
    "    Quantity,\n",
    "    Currency_Code,\n",
    "    Gender,\n",
    "    Name,\n",
    "    City,\n",
    "    State_Code,\n",
    "    State,\n",
    "    Zip_Code,\n",
    "    Country,\n",
    "    Continent,\n",
    "    Birthday,\n",
    "    Exchange,\n",
    "    Square_Meters,\n",
    "    Open_Date\n",
    ")\n",
    "VALUES (%s, %s, %s, %s, %s, %s, %s, %s, %s, %s, %s, %s, %s, %s, %s, %s, %s, %s, %s, %s);\n",
    "\"\"\"\n",
    "\n",
    "# Convert the DataFrame to a list of lists\n",
    "output = df_alldata.values.tolist()\n",
    "\n",
    "# Execute the query with the data\n",
    "mycursor.executemany(insert_all, output)\n",
    "\n",
    "# Commit the changes\n",
    "mydb.commit()\n",
    "\n",
    "print(\"Table updated successfully\")"
   ]
  },
  {
   "cell_type": "code",
   "execution_count": 288,
   "metadata": {},
   "outputs": [
    {
     "name": "stdout",
     "output_type": "stream",
     "text": [
      "Number of values in the first row: 19\n",
      "First row data: [366005, 1, Timestamp('2016-01-01 00:00:00'), 844003, 33, 421, 4, 'EUR', 'Male', 'Ouassim Heuver', 'Leeuwarden', 'FR', 'Friesland', '8916 CD', 'Netherlands', 'Europe', Timestamp('1995-06-22 00:00:00'), 1540.0, Timestamp('2015-12-09 00:00:00')]\n"
     ]
    }
   ],
   "source": [
    "output = df_alldata.values.tolist()\n",
    "\n",
    "# Debug the first row\n",
    "print(\"Number of values in the first row:\", len(output[0]))\n",
    "print(\"First row data:\", output[0])"
   ]
  },
  {
   "cell_type": "code",
   "execution_count": 284,
   "metadata": {},
   "outputs": [
    {
     "name": "stdout",
     "output_type": "stream",
     "text": [
      "<class 'pandas.core.frame.DataFrame'>\n",
      "RangeIndex: 5945 entries, 0 to 5944\n",
      "Data columns (total 19 columns):\n",
      " #   Column         Non-Null Count  Dtype         \n",
      "---  ------         --------------  -----         \n",
      " 0   Order_Number   5945 non-null   int64         \n",
      " 1   Line_Item      5945 non-null   int64         \n",
      " 2   Order_Date     5945 non-null   datetime64[ns]\n",
      " 3   Customer_Key   5945 non-null   int64         \n",
      " 4   Store_Key      5945 non-null   int64         \n",
      " 5   Product_Key    5945 non-null   int64         \n",
      " 6   Quantity       5945 non-null   int64         \n",
      " 7   Currency_Code  5945 non-null   object        \n",
      " 8   Gender         5945 non-null   object        \n",
      " 9   Name           5945 non-null   object        \n",
      " 10  City           5945 non-null   object        \n",
      " 11  State_Code     5945 non-null   object        \n",
      " 12  State          5945 non-null   object        \n",
      " 13  Zip_Code       5945 non-null   object        \n",
      " 14  Country        5945 non-null   object        \n",
      " 15  Continent      5945 non-null   object        \n",
      " 16  Birthday       5945 non-null   datetime64[ns]\n",
      " 17  Square_Meters  5945 non-null   float64       \n",
      " 18  Open_Date      5945 non-null   datetime64[ns]\n",
      "dtypes: datetime64[ns](3), float64(1), int64(6), object(9)\n",
      "memory usage: 882.6+ KB\n"
     ]
    }
   ],
   "source": [
    "df_alldata.info()"
   ]
  },
  {
   "cell_type": "code",
   "execution_count": 56,
   "metadata": {},
   "outputs": [],
   "source": [
    "import os"
   ]
  },
  {
   "cell_type": "code",
   "execution_count": 57,
   "metadata": {},
   "outputs": [
    {
     "name": "stdout",
     "output_type": "stream",
     "text": [
      "Data successfully written to C:\\Users\\rakes\\OneDrive\\Desktop\\Kavitha\\Data insights\\newtable.csv\n"
     ]
    }
   ],
   "source": [
    "# Define the path to save the CSV file\n",
    "file_path = r\"C:\\Users\\rakes\\OneDrive\\Desktop\\Kavitha\\Data insights\\newtable.csv\"\n",
    "# Ensure the directory exists\n",
    "directory = os.path.dirname(file_path)\n",
    "if not os.path.exists(directory):\n",
    "    print(f\"Directory does not exist: {directory}\")\n",
    "    os.makedirs(directory)  # Create the directory if it doesn't exist\n",
    "\n",
    "# Convert DataFrame to CSV\n",
    "try:\n",
    "    df_alldata.to_csv(file_path, index=False)\n",
    "    print(f\"Data successfully written to {file_path}\")\n",
    "except PermissionError:\n",
    "    print(f\"PermissionError: Unable to write to the file {file_path}. Check file permissions.\")\n",
    "except Exception as e:\n",
    "    print(f\"An error occurred while writing the file: {e}\")"
   ]
  },
  {
   "cell_type": "code",
   "execution_count": 173,
   "metadata": {},
   "outputs": [
    {
     "name": "stdout",
     "output_type": "stream",
     "text": [
      "20\n"
     ]
    }
   ],
   "source": [
    "print(len(output[0]))"
   ]
  },
  {
   "cell_type": "code",
   "execution_count": 85,
   "metadata": {},
   "outputs": [],
   "source": [
    "import os"
   ]
  },
  {
   "cell_type": "code",
   "execution_count": 86,
   "metadata": {},
   "outputs": [
    {
     "name": "stdout",
     "output_type": "stream",
     "text": [
      "Data successfully written to C:\\Users\\rakes\\OneDrive\\Desktop\\Kavitha\\Data insights\\mergedalldata.csv\n"
     ]
    }
   ],
   "source": [
    "# Define the path to save the CSV file\n",
    "file_path = r\"C:\\Users\\rakes\\OneDrive\\Desktop\\Kavitha\\Data insights\\mergedalldata.csv\"\n",
    "# Ensure the directory exists\n",
    "directory = os.path.dirname(file_path)\n",
    "if not os.path.exists(directory):\n",
    "    print(f\"Directory does not exist: {directory}\")\n",
    "    os.makedirs(directory)  # Create the directory if it doesn't exist\n",
    "\n",
    "# Convert DataFrame to CSV\n",
    "try:\n",
    "    df_alldata.to_csv(file_path, index=False)\n",
    "    print(f\"Data successfully written to {file_path}\")\n",
    "except PermissionError:\n",
    "    print(f\"PermissionError: Unable to write to the file {file_path}. Check file permissions.\")\n",
    "except Exception as e:\n",
    "    print(f\"An error occurred while writing the file: {e}\")"
   ]
  },
  {
   "cell_type": "code",
   "execution_count": 188,
   "metadata": {},
   "outputs": [],
   "source": [
    "mycursor.execute(\"DROP TABLE data_insights.customerstable\");"
   ]
  },
  {
   "cell_type": "code",
   "execution_count": 189,
   "metadata": {},
   "outputs": [],
   "source": [
    "mycursor.execute(\"DROP TABLE data_insights.customertable\");"
   ]
  },
  {
   "cell_type": "code",
   "execution_count": 190,
   "metadata": {},
   "outputs": [],
   "source": [
    "\n",
    "mycursor.execute(\"DROP TABLE data_insights.data_sparktable\");"
   ]
  },
  {
   "cell_type": "code",
   "execution_count": 191,
   "metadata": {},
   "outputs": [],
   "source": [
    "mycursor.execute(\"DROP DATABASE data_insights\")"
   ]
  },
  {
   "cell_type": "code",
   "execution_count": null,
   "metadata": {},
   "outputs": [],
   "source": [
    "WITH AgeCalculation AS (\n",
    "    SELECT \n",
    "        *,\n",
    "        FLOOR(DATEDIFF(CURRENT_DATE, Birthday) / 365) AS Age, -- Calculate age\n",
    "        Quantity * Unit_Price_USD AS Revenue -- Calculate revenue for each row\n",
    "    FROM df_alldata\n",
    "),\n",
    "AgeGroups AS (\n",
    "    SELECT \n",
    "        *,\n",
    "        CASE \n",
    "            WHEN Age >= 0 AND Age < 15 THEN '0-15'\n",
    "            WHEN Age >= 15 AND Age < 30 THEN '15-30'\n",
    "            WHEN Age >= 30 AND Age < 45 THEN '30-45'\n",
    "            WHEN Age >= 45 AND Age < 60 THEN '45-60'\n",
    "            ELSE '60+'\n",
    "        END AS Age_Group -- Create age groups\n",
    "    FROM AgeCalculation\n",
    ")\n",
    "SELECT \n",
    "    Age_Group,\n",
    "    SUM(Revenue) AS Total_Revenue\n",
    "FROM AgeGroups\n",
    "GROUP BY Age_Group\n",
    "ORDER BY Total_Revenue DESC\n",
    "LIMIT 1; -- Return the age group with the highest total revenue\n"
   ]
  }
 ],
 "metadata": {
  "kernelspec": {
   "display_name": "Python 3",
   "language": "python",
   "name": "python3"
  },
  "language_info": {
   "codemirror_mode": {
    "name": "ipython",
    "version": 3
   },
   "file_extension": ".py",
   "mimetype": "text/x-python",
   "name": "python",
   "nbconvert_exporter": "python",
   "pygments_lexer": "ipython3",
   "version": "3.12.3"
  }
 },
 "nbformat": 4,
 "nbformat_minor": 2
}
